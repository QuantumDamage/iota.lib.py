{
 "cells": [
  {
   "cell_type": "markdown",
   "metadata": {},
   "source": [
    "# PyOTA \"Hello world\" tutorial.\n",
    "\n",
    "The goal of this tutorial is to create a new, empty wallet based on a new random seed and to transfer IOTA tokens to it from a wallet generated via the faucet. In this tutorial the following tools are used:\n",
    " * Python 3.6.4 - probably any Python 3 will work\n",
    " * Jupyter Notebooks 5.4.0 - needed only for ipynb version of script\n",
    " * iota 2.0.4 - PyOTA module\n",
    " * requests 2.18.4 - module for handling faucet API"
   ]
  },
  {
   "cell_type": "markdown",
   "metadata": {},
   "source": [
    "## Imports\n",
    "Currently, we have the following imports:\n",
    " * iota - module name for [PyOTA](https://pyota.readthedocs.io/en/latest/)\n",
    " * secrets - \"The [secrets](https://docs.python.org/3/library/secrets.html#module-secrets) module is used for generating cryptographically strong random numbers suitable for managing data such as passwords, account authentication, security tokens, and related secrets.\"\n",
    " * requests - \"[Requests](http://docs.python-requests.org/en/master/) is an elegant and simple HTTP library for Python, built for human beings.\""
   ]
  },
  {
   "cell_type": "code",
   "execution_count": 1,
   "metadata": {},
   "outputs": [],
   "source": [
    "import iota\n",
    "import secrets\n",
    "import requests"
   ]
  },
  {
   "cell_type": "markdown",
   "metadata": {},
   "source": [
    "## Versions of modules used in tutorial:"
   ]
  },
  {
   "cell_type": "code",
   "execution_count": 2,
   "metadata": {},
   "outputs": [],
   "source": [
    "assert iota.__version__ == '2.0.4'\n",
    "assert requests.__version__ == '2.18.4'"
   ]
  },
  {
   "cell_type": "markdown",
   "metadata": {},
   "source": [
    "If above assertions will fail, remove them or adjust. They are just for module version checks."
   ]
  },
  {
   "cell_type": "markdown",
   "metadata": {},
   "source": [
    "## Connecting to the testnet\n",
    "Since we would like to be as close to the actual Main IOTA network as possible, we will use the IOTA testnet. The IOTA testnet is almost identical to the mainnet but has faster confirmation times and is reset regularly, so tokens used there have no value. Here is a list of example testnet nodes:\n",
    "\n",
    "* http://p103.iotaledger.net:14700\n",
    "* https://testnet140.tangle.works:443\n",
    "* http://p101.iotaledger.net:14700\n",
    "\n",
    "Please note that the nodes are down or unresponsive at times."
   ]
  },
  {
   "cell_type": "markdown",
   "metadata": {},
   "source": [
    "## Configuration\n",
    "To execute the code in this tutorial we need to define a few parameters at the beginning:\n",
    " * depth: int - Depth at which to attach the bundle. From docs: \"The input value is depth, which basically determines how many bundles to go back to for finding the transactions to approve. The higher your depth value, the more \"babysitting\" you do for the network (as you have to confirm more transactions).\"\n",
    " * uri: string - address of a testnet node in the same format as in the example above."
   ]
  },
  {
   "cell_type": "code",
   "execution_count": 3,
   "metadata": {},
   "outputs": [],
   "source": [
    "depth = 3\n",
    "uri = 'https://testnet140.tangle.works:443'"
   ]
  },
  {
   "cell_type": "markdown",
   "metadata": {},
   "source": [
    "# Generating seeds and addresses\n",
    "This part is dedicated to generating receiver and sender seeds and addresses. If you run this code from top to bottom, new pairs will be generated every time. This might not be the intended behavior. If you would like to use constant values while experimenting, re-run your code from the [**Usage** section](#Usage)."
   ]
  },
  {
   "cell_type": "markdown",
   "metadata": {},
   "source": [
    "## Generating and printing a receiver seed\n",
    "We can easily and securely generate seeds which will be used by the receiver side."
   ]
  },
  {
   "cell_type": "code",
   "execution_count": 4,
   "metadata": {},
   "outputs": [
    {
     "name": "stdout",
     "output_type": "stream",
     "text": [
      "PEMETCMEKOYDHZMNFATHGIXDGJQMOKSRMNWICMYDG9DBXI9XJXZQO9QMSTONMUHJHLTDBNASJNMKTVN9S\n"
     ]
    }
   ],
   "source": [
    "chars = 'ABCDEFGHIJKLMNOPQRSTUVWXYZ9'\n",
    "receiver_seed = ''\n",
    "for i in range(81): receiver_seed += secrets.choice(chars)\n",
    "    \n",
    "print(receiver_seed)"
   ]
  },
  {
   "cell_type": "code",
   "execution_count": 5,
   "metadata": {},
   "outputs": [
    {
     "data": {
      "text/plain": [
       "{'appName': 'IRI Testnet',\n",
       " 'appVersion': '1.4.2.1',\n",
       " 'duration': 0,\n",
       " 'jreAvailableProcessors': 8,\n",
       " 'jreFreeMemory': 258859936,\n",
       " 'jreMaxMemory': 15271460864,\n",
       " 'jreTotalMemory': 1218445312,\n",
       " 'jreVersion': '1.8.0_161',\n",
       " 'latestMilestone': TransactionHash(b'GPYX9MGLTYHNKHOTATTVUQEEKKSUEJYOVK9LUENWMCENNNZLPYGHIKVHROVINCZDYRZYDSHAUBBVYZ999'),\n",
       " 'latestMilestoneIndex': 317631,\n",
       " 'latestSolidSubtangleMilestone': TransactionHash(b'GPYX9MGLTYHNKHOTATTVUQEEKKSUEJYOVK9LUENWMCENNNZLPYGHIKVHROVINCZDYRZYDSHAUBBVYZ999'),\n",
       " 'latestSolidSubtangleMilestoneIndex': 317631,\n",
       " 'neighbors': 1,\n",
       " 'packetsQueueSize': 0,\n",
       " 'time': 1519044999136,\n",
       " 'tips': 10,\n",
       " 'transactionsToRequest': 0}"
      ]
     },
     "execution_count": 5,
     "metadata": {},
     "output_type": "execute_result"
    }
   ],
   "source": [
    "api = iota.Iota(uri, seed=receiver_seed)\n",
    "api.get_node_info()"
   ]
  },
  {
   "cell_type": "markdown",
   "metadata": {},
   "source": [
    "## Prepare receiver address\n",
    "We already have our seed for the receiver (in the variable **receiver_seed**), now we would like to have the address. Let's generate one:"
   ]
  },
  {
   "cell_type": "code",
   "execution_count": 6,
   "metadata": {},
   "outputs": [
    {
     "name": "stdout",
     "output_type": "stream",
     "text": [
      "Receiver address 0 is: EJQE9USJIZSGHLNCRSJFVKNAVNOVHLSVHLQOXIHWEBUJKHLC9BNYLLWCQOIHOADFXJKRKXPTGXBGQ9NYZ\n"
     ]
    }
   ],
   "source": [
    "gna_result = api.get_new_addresses(count=1)\n",
    "addresses = gna_result['addresses']\n",
    "receiver_address = addresses[0]\n",
    "print(\"Receiver address 0 is: \" + str(receiver_address))"
   ]
  },
  {
   "cell_type": "markdown",
   "metadata": {},
   "source": [
    "## Prepare sender - how to get testnet tokens?\n",
    "If we are generating new wallets from new seeds then those wallets will be empty (well, [probably](https://matthewwinstonjohnson.gitbooks.io/iota-guide-and-faq/how-secure-is-my-seed.html)). Since we would like to simulate the transfer of \"value\" between two parties, we would need to have some tokens in at least one wallet in our setup. Thanks to IOTA devs, there is a service called a faucet which is generating seeds and wallet addresses with some testnet tokens in it (2K at the moment). They also provide a JSON API so we can use it programmatically."
   ]
  },
  {
   "cell_type": "code",
   "execution_count": 7,
   "metadata": {},
   "outputs": [
    {
     "name": "stdout",
     "output_type": "stream",
     "text": [
      "Faucet response: 200\n"
     ]
    }
   ],
   "source": [
    "r = requests.get('https://seeedy.tangle.works/')\n",
    "print(\"Faucet response: \" + str(r.status_code))\n",
    "sender_wallet = r.json()"
   ]
  },
  {
   "cell_type": "code",
   "execution_count": 8,
   "metadata": {},
   "outputs": [],
   "source": [
    "sender_seed = sender_wallet[\"seed\"]\n",
    "sender_address = sender_wallet[\"address\"]"
   ]
  },
  {
   "cell_type": "code",
   "execution_count": 9,
   "metadata": {},
   "outputs": [
    {
     "name": "stdout",
     "output_type": "stream",
     "text": [
      "Sender seed: QVSFINNL9PSUDVXOVUTQZFIZDNZOWRUASOBASSEJPJDGSIGAXVONJYYPQIZYRFDLANKBKYRZLSYPFWFPD\n",
      "Sender address: CENSNVDK9BUHDAOEBMUDKXLPBQ9YCTPQKWPFMYAYVVLOFOCCCLMYVNSLKUDCEHWXOUMPLFA9DFDFAIFGD\n",
      "Sender amount: 2000\n"
     ]
    }
   ],
   "source": [
    "print(\"Sender seed: \" + sender_seed)\n",
    "print(\"Sender address: \" + sender_address)\n",
    "print(\"Sender amount: \" + str(sender_wallet[\"amount\"]))"
   ]
  },
  {
   "cell_type": "markdown",
   "metadata": {},
   "source": [
    "# <a name=\"usage\">Usage</a>\n",
    "\n",
    "To this moment we should have seeds and addresses for the sender (with tokens) and receiver. They are in:\n",
    "* sender_seed\n",
    "* sender_address\n",
    "* receiver_seed\n",
    "* receiver_address"
   ]
  },
  {
   "cell_type": "markdown",
   "metadata": {},
   "source": [
    "If you would like to input your own seeds and addressed you can do it in following way:\n",
    "```\n",
    "sender_seed = \"AESZMB9SVDQBWRQXSXOCDJVAZOVGMDCPMGHJIQASJJNGYYZUSSBKXPTBAIXSFFYBPQCNAUMLKNEGAHL9X\"\n",
    "sender_address = \"ETQFDQUQHRMO9MXPEKCZMFWULGKOBZFCAUEQRSAFQTUOQIYZM9OJAGKMIWJIGURGMDDBONFIVEBOLGQ9C\"\n",
    "receiver_seed = \"QVWIMXF9QVFJKWOBXAGEUFYLBJH9SUZDZUPSDABOFSVTL9FCSZCRFESPZNZB9QVTLBSQZVWNTUZPWERZW\"\n",
    "receiver_address = \"DZMTOBWDQ9DZPWGJ9BOUSCOWKJDOFSJVCIXLLSEEQDRDUVOIY9QEKE9JLBNWAPLLFTELGATRGVIIV9QYW\"\n",
    "```"
   ]
  },
  {
   "cell_type": "code",
   "execution_count": 10,
   "metadata": {},
   "outputs": [
    {
     "data": {
      "text/plain": [
       "0"
      ]
     },
     "execution_count": 10,
     "metadata": {},
     "output_type": "execute_result"
    }
   ],
   "source": [
    "api = iota.Iota(uri, seed=sender_seed)\n",
    "sender_account = api.get_account_data(start=0)\n",
    "sender_account[\"balance\"]"
   ]
  },
  {
   "cell_type": "code",
   "execution_count": 11,
   "metadata": {},
   "outputs": [
    {
     "data": {
      "text/plain": [
       "0"
      ]
     },
     "execution_count": 11,
     "metadata": {},
     "output_type": "execute_result"
    }
   ],
   "source": [
    "api = iota.Iota(uri, seed=receiver_seed)\n",
    "receiver_account = api.get_account_data(start=0)\n",
    "receiver_account[\"balance\"]"
   ]
  },
  {
   "cell_type": "markdown",
   "metadata": {},
   "source": [
    "## Prepare transaction"
   ]
  },
  {
   "cell_type": "markdown",
   "metadata": {},
   "source": [
    "Let's switch back to the sender seed and prepare message. Such a message is built from a string and will be attached to the transaction, so that the receiver will be able to see it easily."
   ]
  },
  {
   "cell_type": "code",
   "execution_count": 12,
   "metadata": {},
   "outputs": [],
   "source": [
    "api = iota.Iota(uri, seed=sender_seed)"
   ]
  },
  {
   "cell_type": "code",
   "execution_count": 13,
   "metadata": {},
   "outputs": [],
   "source": [
    "message = (\"Here, have all my testnet tokens!\")"
   ]
  },
  {
   "cell_type": "markdown",
   "metadata": {},
   "source": [
    "The proposed transaction must consist of: receiver **address** and the **value** we would like to send and the **message** which will be added to the transfer."
   ]
  },
  {
   "cell_type": "code",
   "execution_count": 14,
   "metadata": {},
   "outputs": [],
   "source": [
    "proposedTransaction = iota.ProposedTransaction(address = iota.Address(receiver_address), \n",
    "                                               value = sender_account[\"balance\"], \n",
    "                                               message = iota.TryteString.from_string(message)\n",
    "                                              )"
   ]
  },
  {
   "cell_type": "code",
   "execution_count": 15,
   "metadata": {},
   "outputs": [
    {
     "data": {
      "text/plain": [
       "ProposedTransaction(**{'address': Address(b'EJQE9USJIZSGHLNCRSJFVKNAVNOVHLSVHLQOXIHWEBUJKHLC9BNYLLWCQOIHOADFXJKRKXPTGXBGQ9NYZ'),\n",
       "                     'attachment_timestamp': 0,\n",
       "                     'attachment_timestamp_lower_bound': 0,\n",
       "                     'attachment_timestamp_upper_bound': 0,\n",
       "                     'branch_transaction_hash': TransactionHash(b'999999999999999999999999999999999999999999999999999999999999999999999999999999999'),\n",
       "                     'bundle_hash': None,\n",
       "                     'current_index': None,\n",
       "                     'hash_': None,\n",
       "                     'last_index': None,\n",
       "                     'legacy_tag': Tag(b'999999999999999999999999999'),\n",
       "                     'nonce': Nonce(b'999999999999999999999999999'),\n",
       "                     'signature_message_fragment': None,\n",
       "                     'tag': Tag(b'999999999999999999999999999'),\n",
       "                     'timestamp': 1519045008,\n",
       "                     'trunk_transaction_hash': TransactionHash(b'999999999999999999999999999999999999999999999999999999999999999999999999999999999'),\n",
       "                     'value': 0})"
      ]
     },
     "execution_count": 15,
     "metadata": {},
     "output_type": "execute_result"
    }
   ],
   "source": [
    "proposedTransaction"
   ]
  },
  {
   "cell_type": "markdown",
   "metadata": {},
   "source": [
    "# Execute transaction"
   ]
  },
  {
   "cell_type": "code",
   "execution_count": 16,
   "metadata": {
    "collapsed": true
   },
   "outputs": [
    {
     "ename": "BadApiResponse",
     "evalue": "400 response from node: The subtangle is not solid",
     "output_type": "error",
     "traceback": [
      "\u001b[0;31m---------------------------------------------------------------------------\u001b[0m",
      "\u001b[0;31mBadApiResponse\u001b[0m                            Traceback (most recent call last)",
      "\u001b[0;32m<ipython-input-16-bf31d7dbe23f>\u001b[0m in \u001b[0;36m<module>\u001b[0;34m()\u001b[0m\n\u001b[1;32m      1\u001b[0m transfer = api.send_transfer(transfers = [proposedTransaction], \n\u001b[1;32m      2\u001b[0m                   \u001b[0mdepth\u001b[0m \u001b[0;34m=\u001b[0m \u001b[0mdepth\u001b[0m\u001b[0;34m,\u001b[0m\u001b[0;34m\u001b[0m\u001b[0m\n\u001b[0;32m----> 3\u001b[0;31m                   \u001b[0minputs\u001b[0m \u001b[0;34m=\u001b[0m \u001b[0;34m[\u001b[0m\u001b[0miota\u001b[0m\u001b[0;34m.\u001b[0m\u001b[0mAddress\u001b[0m\u001b[0;34m(\u001b[0m\u001b[0msender_address\u001b[0m\u001b[0;34m,\u001b[0m \u001b[0mkey_index\u001b[0m\u001b[0;34m=\u001b[0m\u001b[0;36m0\u001b[0m\u001b[0;34m,\u001b[0m \u001b[0msecurity_level\u001b[0m\u001b[0;34m=\u001b[0m\u001b[0;36m2\u001b[0m\u001b[0;34m)\u001b[0m\u001b[0;34m]\u001b[0m\u001b[0;34m\u001b[0m\u001b[0m\n\u001b[0m\u001b[1;32m      4\u001b[0m                  ) # should work on working and synced node\n",
      "\u001b[0;32m~/anaconda3/envs/PyOTA/lib/python3.6/site-packages/iota/api.py\u001b[0m in \u001b[0;36msend_transfer\u001b[0;34m(self, depth, transfers, inputs, change_address, min_weight_magnitude)\u001b[0m\n\u001b[1;32m    904\u001b[0m       \u001b[0minputs\u001b[0m              \u001b[0;34m=\u001b[0m \u001b[0minputs\u001b[0m\u001b[0;34m,\u001b[0m\u001b[0;34m\u001b[0m\u001b[0m\n\u001b[1;32m    905\u001b[0m       \u001b[0mchangeAddress\u001b[0m       \u001b[0;34m=\u001b[0m \u001b[0mchange_address\u001b[0m\u001b[0;34m,\u001b[0m\u001b[0;34m\u001b[0m\u001b[0m\n\u001b[0;32m--> 906\u001b[0;31m       \u001b[0mminWeightMagnitude\u001b[0m  \u001b[0;34m=\u001b[0m \u001b[0mmin_weight_magnitude\u001b[0m\u001b[0;34m,\u001b[0m\u001b[0;34m\u001b[0m\u001b[0m\n\u001b[0m\u001b[1;32m    907\u001b[0m     )\n\u001b[1;32m    908\u001b[0m \u001b[0;34m\u001b[0m\u001b[0m\n",
      "\u001b[0;32m~/anaconda3/envs/PyOTA/lib/python3.6/site-packages/iota/commands/__init__.py\u001b[0m in \u001b[0;36m__call__\u001b[0;34m(self, **kwargs)\u001b[0m\n\u001b[1;32m    128\u001b[0m       \u001b[0mself\u001b[0m\u001b[0;34m.\u001b[0m\u001b[0mrequest\u001b[0m \u001b[0;34m=\u001b[0m \u001b[0mreplacement\u001b[0m\u001b[0;34m\u001b[0m\u001b[0m\n\u001b[1;32m    129\u001b[0m \u001b[0;34m\u001b[0m\u001b[0m\n\u001b[0;32m--> 130\u001b[0;31m     \u001b[0mself\u001b[0m\u001b[0;34m.\u001b[0m\u001b[0mresponse\u001b[0m \u001b[0;34m=\u001b[0m \u001b[0mself\u001b[0m\u001b[0;34m.\u001b[0m\u001b[0m_execute\u001b[0m\u001b[0;34m(\u001b[0m\u001b[0mself\u001b[0m\u001b[0;34m.\u001b[0m\u001b[0mrequest\u001b[0m\u001b[0;34m)\u001b[0m\u001b[0;34m\u001b[0m\u001b[0m\n\u001b[0m\u001b[1;32m    131\u001b[0m \u001b[0;34m\u001b[0m\u001b[0m\n\u001b[1;32m    132\u001b[0m     \u001b[0mreplacement\u001b[0m \u001b[0;34m=\u001b[0m \u001b[0mself\u001b[0m\u001b[0;34m.\u001b[0m\u001b[0m_prepare_response\u001b[0m\u001b[0;34m(\u001b[0m\u001b[0mself\u001b[0m\u001b[0;34m.\u001b[0m\u001b[0mresponse\u001b[0m\u001b[0;34m)\u001b[0m\u001b[0;34m\u001b[0m\u001b[0m\n",
      "\u001b[0;32m~/anaconda3/envs/PyOTA/lib/python3.6/site-packages/iota/commands/extended/send_transfer.py\u001b[0m in \u001b[0;36m_execute\u001b[0;34m(self, request)\u001b[0m\n\u001b[1;32m     52\u001b[0m       \u001b[0mminWeightMagnitude\u001b[0m  \u001b[0;34m=\u001b[0m \u001b[0mmin_weight_magnitude\u001b[0m\u001b[0;34m,\u001b[0m\u001b[0;34m\u001b[0m\u001b[0m\n\u001b[1;32m     53\u001b[0m       \u001b[0mtrytes\u001b[0m              \u001b[0;34m=\u001b[0m \u001b[0mpt_response\u001b[0m\u001b[0;34m[\u001b[0m\u001b[0;34m'trytes'\u001b[0m\u001b[0;34m]\u001b[0m\u001b[0;34m,\u001b[0m\u001b[0;34m\u001b[0m\u001b[0m\n\u001b[0;32m---> 54\u001b[0;31m       \u001b[0mreference\u001b[0m           \u001b[0;34m=\u001b[0m \u001b[0mreference\u001b[0m\u001b[0;34m,\u001b[0m\u001b[0;34m\u001b[0m\u001b[0m\n\u001b[0m\u001b[1;32m     55\u001b[0m     )\n\u001b[1;32m     56\u001b[0m \u001b[0;34m\u001b[0m\u001b[0m\n",
      "\u001b[0;32m~/anaconda3/envs/PyOTA/lib/python3.6/site-packages/iota/commands/__init__.py\u001b[0m in \u001b[0;36m__call__\u001b[0;34m(self, **kwargs)\u001b[0m\n\u001b[1;32m    128\u001b[0m       \u001b[0mself\u001b[0m\u001b[0;34m.\u001b[0m\u001b[0mrequest\u001b[0m \u001b[0;34m=\u001b[0m \u001b[0mreplacement\u001b[0m\u001b[0;34m\u001b[0m\u001b[0m\n\u001b[1;32m    129\u001b[0m \u001b[0;34m\u001b[0m\u001b[0m\n\u001b[0;32m--> 130\u001b[0;31m     \u001b[0mself\u001b[0m\u001b[0;34m.\u001b[0m\u001b[0mresponse\u001b[0m \u001b[0;34m=\u001b[0m \u001b[0mself\u001b[0m\u001b[0;34m.\u001b[0m\u001b[0m_execute\u001b[0m\u001b[0;34m(\u001b[0m\u001b[0mself\u001b[0m\u001b[0;34m.\u001b[0m\u001b[0mrequest\u001b[0m\u001b[0;34m)\u001b[0m\u001b[0;34m\u001b[0m\u001b[0m\n\u001b[0m\u001b[1;32m    131\u001b[0m \u001b[0;34m\u001b[0m\u001b[0m\n\u001b[1;32m    132\u001b[0m     \u001b[0mreplacement\u001b[0m \u001b[0;34m=\u001b[0m \u001b[0mself\u001b[0m\u001b[0;34m.\u001b[0m\u001b[0m_prepare_response\u001b[0m\u001b[0;34m(\u001b[0m\u001b[0mself\u001b[0m\u001b[0;34m.\u001b[0m\u001b[0mresponse\u001b[0m\u001b[0;34m)\u001b[0m\u001b[0;34m\u001b[0m\u001b[0m\n",
      "\u001b[0;32m~/anaconda3/envs/PyOTA/lib/python3.6/site-packages/iota/commands/extended/send_trytes.py\u001b[0m in \u001b[0;36m_execute\u001b[0;34m(self, request)\u001b[0m\n\u001b[1;32m     43\u001b[0m     gta_response = GetTransactionsToApproveCommand(self.adapter)(\n\u001b[1;32m     44\u001b[0m       \u001b[0mdepth\u001b[0m\u001b[0;34m=\u001b[0m\u001b[0mdepth\u001b[0m\u001b[0;34m,\u001b[0m\u001b[0;34m\u001b[0m\u001b[0m\n\u001b[0;32m---> 45\u001b[0;31m       \u001b[0mreference\u001b[0m\u001b[0;34m=\u001b[0m\u001b[0mreference\u001b[0m\u001b[0;34m,\u001b[0m\u001b[0;34m\u001b[0m\u001b[0m\n\u001b[0m\u001b[1;32m     46\u001b[0m     )\n\u001b[1;32m     47\u001b[0m \u001b[0;34m\u001b[0m\u001b[0m\n",
      "\u001b[0;32m~/anaconda3/envs/PyOTA/lib/python3.6/site-packages/iota/commands/__init__.py\u001b[0m in \u001b[0;36m__call__\u001b[0;34m(self, **kwargs)\u001b[0m\n\u001b[1;32m    128\u001b[0m       \u001b[0mself\u001b[0m\u001b[0;34m.\u001b[0m\u001b[0mrequest\u001b[0m \u001b[0;34m=\u001b[0m \u001b[0mreplacement\u001b[0m\u001b[0;34m\u001b[0m\u001b[0m\n\u001b[1;32m    129\u001b[0m \u001b[0;34m\u001b[0m\u001b[0m\n\u001b[0;32m--> 130\u001b[0;31m     \u001b[0mself\u001b[0m\u001b[0;34m.\u001b[0m\u001b[0mresponse\u001b[0m \u001b[0;34m=\u001b[0m \u001b[0mself\u001b[0m\u001b[0;34m.\u001b[0m\u001b[0m_execute\u001b[0m\u001b[0;34m(\u001b[0m\u001b[0mself\u001b[0m\u001b[0;34m.\u001b[0m\u001b[0mrequest\u001b[0m\u001b[0;34m)\u001b[0m\u001b[0;34m\u001b[0m\u001b[0m\n\u001b[0m\u001b[1;32m    131\u001b[0m \u001b[0;34m\u001b[0m\u001b[0m\n\u001b[1;32m    132\u001b[0m     \u001b[0mreplacement\u001b[0m \u001b[0;34m=\u001b[0m \u001b[0mself\u001b[0m\u001b[0;34m.\u001b[0m\u001b[0m_prepare_response\u001b[0m\u001b[0;34m(\u001b[0m\u001b[0mself\u001b[0m\u001b[0;34m.\u001b[0m\u001b[0mresponse\u001b[0m\u001b[0;34m)\u001b[0m\u001b[0;34m\u001b[0m\u001b[0m\n",
      "\u001b[0;32m~/anaconda3/envs/PyOTA/lib/python3.6/site-packages/iota/commands/__init__.py\u001b[0m in \u001b[0;36m_execute\u001b[0;34m(self, request)\u001b[0m\n\u001b[1;32m    156\u001b[0m     \"\"\"\n\u001b[1;32m    157\u001b[0m     \u001b[0mrequest\u001b[0m\u001b[0;34m[\u001b[0m\u001b[0;34m'command'\u001b[0m\u001b[0;34m]\u001b[0m \u001b[0;34m=\u001b[0m \u001b[0mself\u001b[0m\u001b[0;34m.\u001b[0m\u001b[0mcommand\u001b[0m\u001b[0;34m\u001b[0m\u001b[0m\n\u001b[0;32m--> 158\u001b[0;31m     \u001b[0;32mreturn\u001b[0m \u001b[0mself\u001b[0m\u001b[0;34m.\u001b[0m\u001b[0madapter\u001b[0m\u001b[0;34m.\u001b[0m\u001b[0msend_request\u001b[0m\u001b[0;34m(\u001b[0m\u001b[0mrequest\u001b[0m\u001b[0;34m)\u001b[0m\u001b[0;34m\u001b[0m\u001b[0m\n\u001b[0m\u001b[1;32m    159\u001b[0m \u001b[0;34m\u001b[0m\u001b[0m\n\u001b[1;32m    160\u001b[0m   \u001b[0;34m@\u001b[0m\u001b[0mabstract_method\u001b[0m\u001b[0;34m\u001b[0m\u001b[0m\n",
      "\u001b[0;32m~/anaconda3/envs/PyOTA/lib/python3.6/site-packages/iota/adapter/__init__.py\u001b[0m in \u001b[0;36msend_request\u001b[0;34m(self, payload, **kwargs)\u001b[0m\n\u001b[1;32m    302\u001b[0m     )\n\u001b[1;32m    303\u001b[0m \u001b[0;34m\u001b[0m\u001b[0m\n\u001b[0;32m--> 304\u001b[0;31m     \u001b[0;32mreturn\u001b[0m \u001b[0mself\u001b[0m\u001b[0;34m.\u001b[0m\u001b[0m_interpret_response\u001b[0m\u001b[0;34m(\u001b[0m\u001b[0mresponse\u001b[0m\u001b[0;34m,\u001b[0m \u001b[0mpayload\u001b[0m\u001b[0;34m,\u001b[0m \u001b[0;34m{\u001b[0m\u001b[0mcodes\u001b[0m\u001b[0;34m[\u001b[0m\u001b[0;34m'ok'\u001b[0m\u001b[0;34m]\u001b[0m\u001b[0;34m}\u001b[0m\u001b[0;34m)\u001b[0m\u001b[0;34m\u001b[0m\u001b[0m\n\u001b[0m\u001b[1;32m    305\u001b[0m \u001b[0;34m\u001b[0m\u001b[0m\n\u001b[1;32m    306\u001b[0m   \u001b[0;32mdef\u001b[0m \u001b[0m_send_http_request\u001b[0m\u001b[0;34m(\u001b[0m\u001b[0mself\u001b[0m\u001b[0;34m,\u001b[0m \u001b[0murl\u001b[0m\u001b[0;34m,\u001b[0m \u001b[0mpayload\u001b[0m\u001b[0;34m,\u001b[0m \u001b[0mmethod\u001b[0m\u001b[0;34m=\u001b[0m\u001b[0;34m'post'\u001b[0m\u001b[0;34m,\u001b[0m \u001b[0;34m**\u001b[0m\u001b[0mkwargs\u001b[0m\u001b[0;34m)\u001b[0m\u001b[0;34m:\u001b[0m\u001b[0;34m\u001b[0m\u001b[0m\n",
      "\u001b[0;32m~/anaconda3/envs/PyOTA/lib/python3.6/site-packages/iota/adapter/__init__.py\u001b[0m in \u001b[0;36m_interpret_response\u001b[0;34m(self, response, payload, expected_status)\u001b[0m\n\u001b[1;32m    443\u001b[0m       context = {\n\u001b[1;32m    444\u001b[0m         \u001b[0;34m'request'\u001b[0m\u001b[0;34m:\u001b[0m  \u001b[0mpayload\u001b[0m\u001b[0;34m,\u001b[0m\u001b[0;34m\u001b[0m\u001b[0m\n\u001b[0;32m--> 445\u001b[0;31m         \u001b[0;34m'response'\u001b[0m\u001b[0;34m:\u001b[0m \u001b[0mdecoded\u001b[0m\u001b[0;34m,\u001b[0m\u001b[0;34m\u001b[0m\u001b[0m\n\u001b[0m\u001b[1;32m    446\u001b[0m       },\n\u001b[1;32m    447\u001b[0m     )\n",
      "\u001b[0;31mBadApiResponse\u001b[0m: 400 response from node: The subtangle is not solid"
     ]
    }
   ],
   "source": [
    "transfer = api.send_transfer(transfers = [proposedTransaction], \n",
    "                  depth = depth,\n",
    "                  inputs = [iota.Address(sender_address, key_index=0, security_level=2)]\n",
    "                 ) # should work on working and synced node"
   ]
  },
  {
   "cell_type": "code",
   "execution_count": 17,
   "metadata": {
    "collapsed": true
   },
   "outputs": [
    {
     "ename": "NameError",
     "evalue": "name 'transfer' is not defined",
     "output_type": "error",
     "traceback": [
      "\u001b[0;31m---------------------------------------------------------------------------\u001b[0m",
      "\u001b[0;31mNameError\u001b[0m                                 Traceback (most recent call last)",
      "\u001b[0;32m<ipython-input-17-643384cfcf5b>\u001b[0m in \u001b[0;36m<module>\u001b[0;34m()\u001b[0m\n\u001b[1;32m      1\u001b[0m \u001b[0mtransactionHash\u001b[0m \u001b[0;34m=\u001b[0m \u001b[0;34m[\u001b[0m\u001b[0;34m]\u001b[0m\u001b[0;34m\u001b[0m\u001b[0m\n\u001b[0;32m----> 2\u001b[0;31m \u001b[0;32mfor\u001b[0m \u001b[0mtransaction\u001b[0m \u001b[0;32min\u001b[0m \u001b[0mtransfer\u001b[0m\u001b[0;34m[\u001b[0m\u001b[0;34m\"bundle\"\u001b[0m\u001b[0;34m]\u001b[0m\u001b[0;34m:\u001b[0m\u001b[0;34m\u001b[0m\u001b[0m\n\u001b[0m\u001b[1;32m      3\u001b[0m     \u001b[0mtransactionHash\u001b[0m\u001b[0;34m.\u001b[0m\u001b[0mappend\u001b[0m\u001b[0;34m(\u001b[0m\u001b[0mtransaction\u001b[0m\u001b[0;34m.\u001b[0m\u001b[0mhash\u001b[0m\u001b[0;34m)\u001b[0m\u001b[0;34m\u001b[0m\u001b[0m\n\u001b[1;32m      4\u001b[0m     \u001b[0mprint\u001b[0m\u001b[0;34m(\u001b[0m\u001b[0mtransaction\u001b[0m\u001b[0;34m.\u001b[0m\u001b[0maddress\u001b[0m\u001b[0;34m,\u001b[0m \u001b[0mtransaction\u001b[0m\u001b[0;34m.\u001b[0m\u001b[0mhash\u001b[0m\u001b[0;34m)\u001b[0m\u001b[0;34m\u001b[0m\u001b[0m\n",
      "\u001b[0;31mNameError\u001b[0m: name 'transfer' is not defined"
     ]
    }
   ],
   "source": [
    "transactionHash = []\n",
    "for transaction in transfer[\"bundle\"]:\n",
    "    transactionHash.append(transaction.hash)\n",
    "    print(transaction.address, transaction.hash)"
   ]
  },
  {
   "cell_type": "markdown",
   "metadata": {},
   "source": [
    "Let's check the statuses of our transactions. We need the corresponding hashes to be able to check if they were executed."
   ]
  },
  {
   "cell_type": "code",
   "execution_count": 18,
   "metadata": {
    "collapsed": true
   },
   "outputs": [
    {
     "ename": "ValueError",
     "evalue": "Request failed validation ({'hashes': ['empty']}) (`exc.context[\"filter_errors\"]` contains more information).",
     "output_type": "error",
     "traceback": [
      "\u001b[0;31m---------------------------------------------------------------------------\u001b[0m",
      "\u001b[0;31mValueError\u001b[0m                                Traceback (most recent call last)",
      "\u001b[0;32m<ipython-input-18-7953d398015b>\u001b[0m in \u001b[0;36m<module>\u001b[0;34m()\u001b[0m\n\u001b[0;32m----> 1\u001b[0;31m \u001b[0mapi\u001b[0m\u001b[0;34m.\u001b[0m\u001b[0mget_latest_inclusion\u001b[0m\u001b[0;34m(\u001b[0m\u001b[0mtransactionHash\u001b[0m\u001b[0;34m)\u001b[0m\u001b[0;34m\u001b[0m\u001b[0m\n\u001b[0m",
      "\u001b[0;32m~/anaconda3/envs/PyOTA/lib/python3.6/site-packages/iota/api.py\u001b[0m in \u001b[0;36mget_latest_inclusion\u001b[0;34m(self, hashes)\u001b[0m\n\u001b[1;32m    635\u001b[0m          }\n\u001b[1;32m    636\u001b[0m     \"\"\"\n\u001b[0;32m--> 637\u001b[0;31m     \u001b[0;32mreturn\u001b[0m \u001b[0mextended\u001b[0m\u001b[0;34m.\u001b[0m\u001b[0mGetLatestInclusionCommand\u001b[0m\u001b[0;34m(\u001b[0m\u001b[0mself\u001b[0m\u001b[0;34m.\u001b[0m\u001b[0madapter\u001b[0m\u001b[0;34m)\u001b[0m\u001b[0;34m(\u001b[0m\u001b[0mhashes\u001b[0m\u001b[0;34m=\u001b[0m\u001b[0mhashes\u001b[0m\u001b[0;34m)\u001b[0m\u001b[0;34m\u001b[0m\u001b[0m\n\u001b[0m\u001b[1;32m    638\u001b[0m \u001b[0;34m\u001b[0m\u001b[0m\n\u001b[1;32m    639\u001b[0m   def get_new_addresses(\n",
      "\u001b[0;32m~/anaconda3/envs/PyOTA/lib/python3.6/site-packages/iota/commands/__init__.py\u001b[0m in \u001b[0;36m__call__\u001b[0;34m(self, **kwargs)\u001b[0m\n\u001b[1;32m    124\u001b[0m     \u001b[0mself\u001b[0m\u001b[0;34m.\u001b[0m\u001b[0mrequest\u001b[0m \u001b[0;34m=\u001b[0m \u001b[0mkwargs\u001b[0m\u001b[0;34m\u001b[0m\u001b[0m\n\u001b[1;32m    125\u001b[0m \u001b[0;34m\u001b[0m\u001b[0m\n\u001b[0;32m--> 126\u001b[0;31m     \u001b[0mreplacement\u001b[0m \u001b[0;34m=\u001b[0m \u001b[0mself\u001b[0m\u001b[0;34m.\u001b[0m\u001b[0m_prepare_request\u001b[0m\u001b[0;34m(\u001b[0m\u001b[0mself\u001b[0m\u001b[0;34m.\u001b[0m\u001b[0mrequest\u001b[0m\u001b[0;34m)\u001b[0m\u001b[0;34m\u001b[0m\u001b[0m\n\u001b[0m\u001b[1;32m    127\u001b[0m     \u001b[0;32mif\u001b[0m \u001b[0mreplacement\u001b[0m \u001b[0;32mis\u001b[0m \u001b[0;32mnot\u001b[0m \u001b[0;32mNone\u001b[0m\u001b[0;34m:\u001b[0m\u001b[0;34m\u001b[0m\u001b[0m\n\u001b[1;32m    128\u001b[0m       \u001b[0mself\u001b[0m\u001b[0;34m.\u001b[0m\u001b[0mrequest\u001b[0m \u001b[0;34m=\u001b[0m \u001b[0mreplacement\u001b[0m\u001b[0;34m\u001b[0m\u001b[0m\n",
      "\u001b[0;32m~/anaconda3/envs/PyOTA/lib/python3.6/site-packages/iota/commands/__init__.py\u001b[0m in \u001b[0;36m_prepare_request\u001b[0;34m(self, request)\u001b[0m\n\u001b[1;32m    297\u001b[0m       \u001b[0mvalue\u001b[0m           \u001b[0;34m=\u001b[0m \u001b[0mrequest\u001b[0m\u001b[0;34m,\u001b[0m\u001b[0;34m\u001b[0m\u001b[0m\n\u001b[1;32m    298\u001b[0m       \u001b[0mfilter_\u001b[0m         \u001b[0;34m=\u001b[0m \u001b[0mself\u001b[0m\u001b[0;34m.\u001b[0m\u001b[0mget_request_filter\u001b[0m\u001b[0;34m(\u001b[0m\u001b[0;34m)\u001b[0m\u001b[0;34m,\u001b[0m\u001b[0;34m\u001b[0m\u001b[0m\n\u001b[0;32m--> 299\u001b[0;31m       \u001b[0mfailure_message\u001b[0m \u001b[0;34m=\u001b[0m \u001b[0;34m'Request failed validation'\u001b[0m\u001b[0;34m,\u001b[0m\u001b[0;34m\u001b[0m\u001b[0m\n\u001b[0m\u001b[1;32m    300\u001b[0m     )\n\u001b[1;32m    301\u001b[0m \u001b[0;34m\u001b[0m\u001b[0m\n",
      "\u001b[0;32m~/anaconda3/envs/PyOTA/lib/python3.6/site-packages/iota/commands/__init__.py\u001b[0m in \u001b[0;36m_apply_filter\u001b[0;34m(value, filter_, failure_message)\u001b[0m\n\u001b[1;32m    332\u001b[0m \u001b[0;34m\u001b[0m\u001b[0m\n\u001b[1;32m    333\u001b[0m           context = {\n\u001b[0;32m--> 334\u001b[0;31m             \u001b[0;34m'filter_errors'\u001b[0m\u001b[0;34m:\u001b[0m \u001b[0mrunner\u001b[0m\u001b[0;34m.\u001b[0m\u001b[0mget_errors\u001b[0m\u001b[0;34m(\u001b[0m\u001b[0mwith_context\u001b[0m\u001b[0;34m=\u001b[0m\u001b[0;32mTrue\u001b[0m\u001b[0;34m)\u001b[0m\u001b[0;34m,\u001b[0m\u001b[0;34m\u001b[0m\u001b[0m\n\u001b[0m\u001b[1;32m    335\u001b[0m           },\n\u001b[1;32m    336\u001b[0m         )\n",
      "\u001b[0;31mValueError\u001b[0m: Request failed validation ({'hashes': ['empty']}) (`exc.context[\"filter_errors\"]` contains more information)."
     ]
    }
   ],
   "source": [
    "api.get_latest_inclusion(transactionHash)"
   ]
  },
  {
   "cell_type": "markdown",
   "metadata": {},
   "source": [
    "If the status is \"True\", it means that the transaction was executed and we could see that the tokens appeared on the receiver side.\n",
    "But if we have only \"False\" that means that our proposed transaction wasn't validated and included in the tangle.\n",
    "In this case, we could either wait or replay our request."
   ]
  },
  {
   "cell_type": "code",
   "execution_count": 19,
   "metadata": {},
   "outputs": [
    {
     "ename": "IndexError",
     "evalue": "list index out of range",
     "output_type": "error",
     "traceback": [
      "\u001b[0;31m---------------------------------------------------------------------------\u001b[0m",
      "\u001b[0;31mIndexError\u001b[0m                                Traceback (most recent call last)",
      "\u001b[0;32m<ipython-input-19-910ceebc4a48>\u001b[0m in \u001b[0;36m<module>\u001b[0;34m()\u001b[0m\n\u001b[0;32m----> 1\u001b[0;31m \u001b[0mapi\u001b[0m\u001b[0;34m.\u001b[0m\u001b[0mreplay_bundle\u001b[0m\u001b[0;34m(\u001b[0m\u001b[0mtransactionHash\u001b[0m\u001b[0;34m[\u001b[0m\u001b[0;36m0\u001b[0m\u001b[0;34m]\u001b[0m\u001b[0;34m,\u001b[0m \u001b[0mdepth\u001b[0m\u001b[0;34m=\u001b[0m\u001b[0mdepth\u001b[0m\u001b[0;34m)\u001b[0m \u001b[0;31m# should work on working and synced node\u001b[0m\u001b[0;34m\u001b[0m\u001b[0m\n\u001b[0m",
      "\u001b[0;31mIndexError\u001b[0m: list index out of range"
     ]
    }
   ],
   "source": [
    "api.replay_bundle(transactionHash[0], depth=depth) # should work on working and synced node"
   ]
  },
  {
   "cell_type": "markdown",
   "metadata": {},
   "source": [
    "After successful inclusion, we should be able to see the transferred tokens in the receiver wallet:"
   ]
  },
  {
   "cell_type": "code",
   "execution_count": 20,
   "metadata": {},
   "outputs": [
    {
     "data": {
      "text/plain": [
       "0"
      ]
     },
     "execution_count": 20,
     "metadata": {},
     "output_type": "execute_result"
    }
   ],
   "source": [
    "api = iota.Iota(uri, seed=sender_seed)\n",
    "sender_account = api.get_account_data(start=0)\n",
    "sender_account[\"balance\"]"
   ]
  },
  {
   "cell_type": "code",
   "execution_count": 21,
   "metadata": {},
   "outputs": [
    {
     "data": {
      "text/plain": [
       "0"
      ]
     },
     "execution_count": 21,
     "metadata": {},
     "output_type": "execute_result"
    }
   ],
   "source": [
    "api = iota.Iota(uri, seed=receiver_seed)\n",
    "receiver_account = api.get_account_data(start=0)\n",
    "receiver_account[\"balance\"]"
   ]
  },
  {
   "cell_type": "markdown",
   "metadata": {},
   "source": [
    "## Future enchancements:"
   ]
  },
  {
   "cell_type": "markdown",
   "metadata": {},
   "source": [
    "### Check if address was used to spent: https://github.com/iotaledger/iota.lib.py/pull/158\n",
    "Not pushed to release yet."
   ]
  },
  {
   "cell_type": "markdown",
   "metadata": {},
   "source": [
    "```\n",
    "api = Iota(uri, seed=sender_seed)\n",
    "r = api.were_addresses_spent_from(sender_address)\n",
    "print(r)\n",
    "```"
   ]
  },
  {
   "cell_type": "code",
   "execution_count": null,
   "metadata": {},
   "outputs": [],
   "source": []
  }
 ],
 "metadata": {
  "kernelspec": {
   "display_name": "Python 3",
   "language": "python",
   "name": "python3"
  },
  "language_info": {
   "codemirror_mode": {
    "name": "ipython",
    "version": 3
   },
   "file_extension": ".py",
   "mimetype": "text/x-python",
   "name": "python",
   "nbconvert_exporter": "python",
   "pygments_lexer": "ipython3",
   "version": "3.6.4"
  }
 },
 "nbformat": 4,
 "nbformat_minor": 2
}
