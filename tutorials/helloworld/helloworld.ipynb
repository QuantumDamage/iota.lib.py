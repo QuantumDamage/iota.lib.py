{
 "cells": [
  {
   "cell_type": "markdown",
   "metadata": {},
   "source": [
    "# PyOTA \"Hello world\" tutorial.\n",
    "\n",
    "The goal of this tutorial is to create new empty wallet based on new random seed and to transfer IOTA tokens to it from wallet generated via faucet."
   ]
  },
  {
   "cell_type": "markdown",
   "metadata": {},
   "source": [
    "## Imports\n",
    "Currently we have following imports:\n",
    " * iota - module name for [PyOTA](https://pyota.readthedocs.io/en/latest/)\n",
    " * secrets - \"The [secrets](https://docs.python.org/3/library/secrets.html#module-secrets) module is used for generating cryptographically strong random numbers suitable for managing data such as passwords, account authentication, security tokens, and related secrets.\"\n",
    " * requests - \"[Requests](http://docs.python-requests.org/en/master/) is an elegant and simple HTTP library for Python, built for human beings.\""
   ]
  },
  {
   "cell_type": "code",
   "execution_count": 1,
   "metadata": {},
   "outputs": [],
   "source": [
    "import iota\n",
    "import secrets\n",
    "import requests"
   ]
  },
  {
   "cell_type": "markdown",
   "metadata": {},
   "source": [
    "## Generating and printing receiver seed\n",
    "We can easily and securely generate seed which will be used as seed for receiver side."
   ]
  },
  {
   "cell_type": "code",
   "execution_count": 2,
   "metadata": {},
   "outputs": [
    {
     "name": "stdout",
     "output_type": "stream",
     "text": [
      "FFPCNTKEMMJUHUBFUYVVMQAEGFJFDABBXR9UVBMXSEIPZQQACBYNDJKKGSCAJFPZMOIVQJKUWFDT9ZKUH\n"
     ]
    }
   ],
   "source": [
    "chars = 'ABCDEFGHIJKLMNOPQRSTUVWXYZ9'\n",
    "receiver_seed = ''\n",
    "for i in range(81): receiver_seed += secrets.choice(chars)\n",
    "    \n",
    "print(receiver_seed)"
   ]
  },
  {
   "cell_type": "markdown",
   "metadata": {},
   "source": [
    "## Connecting to testnet\n",
    "Since we would like to be as close to actual Main IOTA network we will use IOTA testnet. IOTA testnet is supposed to be almost identical in operating as mainnet but has faster confirmation times and is reseted regurally, so tokens used there have no value. Here is list of example testnet nodes:\n",
    "\n",
    "* http://p103.iotaledger.net:14700\n",
    "* https://testnet140.tangle.works:443\n",
    "* http://p101.iotaledger.net:14700\n",
    "\n",
    "Please note that they could be down or unresponsive. "
   ]
  },
  {
   "cell_type": "code",
   "execution_count": 3,
   "metadata": {},
   "outputs": [
    {
     "data": {
      "text/plain": [
       "{'appName': 'IRI Testnet',\n",
       " 'appVersion': '1.4.2.1',\n",
       " 'duration': 0,\n",
       " 'jreAvailableProcessors': 8,\n",
       " 'jreFreeMemory': 218798104,\n",
       " 'jreMaxMemory': 15271460864,\n",
       " 'jreTotalMemory': 1064828928,\n",
       " 'jreVersion': '1.8.0_161',\n",
       " 'latestMilestone': TransactionHash(b'HGKJHP9WLIVHWWECHVAEMOFZQQP9DJHEBKGYXIGHYUSJRZ9MST9SEQPL9HJMAPNUGQLY9NEDWTDFGL999'),\n",
       " 'latestMilestoneIndex': 318430,\n",
       " 'latestSolidSubtangleMilestone': TransactionHash(b'999999999999999999999999999999999999999999999999999999999999999999999999999999999'),\n",
       " 'latestSolidSubtangleMilestoneIndex': 1000,\n",
       " 'neighbors': 4,\n",
       " 'packetsQueueSize': 0,\n",
       " 'time': 1518704333104,\n",
       " 'tips': 0,\n",
       " 'transactionsToRequest': 2}"
      ]
     },
     "execution_count": 3,
     "metadata": {},
     "output_type": "execute_result"
    }
   ],
   "source": [
    "api = iota.Iota('https://testnet140.tangle.works:443', seed=receiver_seed)\n",
    "api.get_node_info()"
   ]
  },
  {
   "cell_type": "markdown",
   "metadata": {},
   "source": [
    "## Prepare receiver address\n",
    "We already have seed for receiver (in variable **receiver_seed**), now we would like to have his address. Lets generate one:"
   ]
  },
  {
   "cell_type": "code",
   "execution_count": 4,
   "metadata": {},
   "outputs": [
    {
     "name": "stdout",
     "output_type": "stream",
     "text": [
      "Receiver address 0 is: BIRMZLDANYVITFMNEZONMGDOVZACPP9BHJMHPWMGAGGBUFI9SWTKQYNBZI9EDVSXQCDBFRVURV9YNDGVX\n"
     ]
    }
   ],
   "source": [
    "gna_result = api.get_new_addresses(count=1)\n",
    "addresses = gna_result['addresses']\n",
    "receiver_address = addresses[0]\n",
    "print(\"Receiver address 0 is: \" + str(receiver_address))"
   ]
  },
  {
   "cell_type": "markdown",
   "metadata": {},
   "source": [
    "## Prepare sender - how to get testnet tokens?\n",
    "If we are generating new wallets from new seeds then thoose wallets will be empty (well, [probably](https://matthewwinstonjohnson.gitbooks.io/iota-guide-and-faq/how-secure-is-my-seed.html)). Since we would like to simulate transfer of \"value\" between two parties, we would need to have some tokens in at least one wallet in our setup. Thanks to IOTA devs, there is service called faucet which is genearting seeds and wallet addreses with some testnet tokens in it (2K at the moment). They also provide JSON API so we can use it right away."
   ]
  },
  {
   "cell_type": "code",
   "execution_count": 5,
   "metadata": {},
   "outputs": [
    {
     "name": "stdout",
     "output_type": "stream",
     "text": [
      "Faucet response: 200\n"
     ]
    }
   ],
   "source": [
    "r = requests.get('https://seeedy.tangle.works/')\n",
    "print(\"Faucet response: \" + str(r.status_code))\n",
    "sender_wallet = r.json()"
   ]
  },
  {
   "cell_type": "code",
   "execution_count": 6,
   "metadata": {},
   "outputs": [
    {
     "name": "stdout",
     "output_type": "stream",
     "text": [
      "Sender seed: AXTI9CAUCGMQYCEJEZQNVPTZTPDAHGIPNTWFVNQGXZSYGO9ISRPJVTQZKIBHBCTM9WJHWGADM9RBYKSIE\n",
      "Sender address: RXZHKUFSGRMKJHCDVMVSREBLROC9AL9NXQONOHCRWYFTOXCDWTPDJIGJQAFEDEJGNENP9QESIYIFAONVX\n",
      "Sender amount: 2000\n"
     ]
    }
   ],
   "source": [
    "print(\"Sender seed: \" + sender_wallet[\"seed\"])\n",
    "print(\"Sender address: \" + sender_wallet[\"address\"])\n",
    "print(\"Sender amount: \" + str(sender_wallet[\"amount\"]))"
   ]
  },
  {
   "cell_type": "markdown",
   "metadata": {},
   "source": [
    "## Prepare transaction"
   ]
  },
  {
   "cell_type": "code",
   "execution_count": 7,
   "metadata": {},
   "outputs": [],
   "source": [
    "message = (\"Here, have all my testnet tokens!\")"
   ]
  },
  {
   "cell_type": "code",
   "execution_count": 8,
   "metadata": {},
   "outputs": [],
   "source": [
    "proposedTransaction = iota.ProposedTransaction(address = iota.Address(receiver_address), \n",
    "                                               value = sender_wallet[\"amount\"], \n",
    "                                               message = iota.TryteString.from_string(message)\n",
    "                                              )"
   ]
  },
  {
   "cell_type": "code",
   "execution_count": 11,
   "metadata": {},
   "outputs": [
    {
     "data": {
      "text/plain": [
       "ProposedTransaction(**{'address': Address(b'BIRMZLDANYVITFMNEZONMGDOVZACPP9BHJMHPWMGAGGBUFI9SWTKQYNBZI9EDVSXQCDBFRVURV9YNDGVX'),\n",
       "                     'attachment_timestamp': 0,\n",
       "                     'attachment_timestamp_lower_bound': 0,\n",
       "                     'attachment_timestamp_upper_bound': 0,\n",
       "                     'branch_transaction_hash': TransactionHash(b'999999999999999999999999999999999999999999999999999999999999999999999999999999999'),\n",
       "                     'bundle_hash': None,\n",
       "                     'current_index': None,\n",
       "                     'hash_': None,\n",
       "                     'last_index': None,\n",
       "                     'legacy_tag': Tag(b'999999999999999999999999999'),\n",
       "                     'nonce': Nonce(b'999999999999999999999999999'),\n",
       "                     'signature_message_fragment': None,\n",
       "                     'tag': Tag(b'999999999999999999999999999'),\n",
       "                     'timestamp': 1518704335,\n",
       "                     'trunk_transaction_hash': TransactionHash(b'999999999999999999999999999999999999999999999999999999999999999999999999999999999'),\n",
       "                     'value': 2000})"
      ]
     },
     "execution_count": 11,
     "metadata": {},
     "output_type": "execute_result"
    }
   ],
   "source": [
    "proposedTransaction"
   ]
  },
  {
   "cell_type": "code",
   "execution_count": 9,
   "metadata": {},
   "outputs": [],
   "source": [
    "api = iota.Iota('https://testnet140.tangle.works:443', seed=sender_wallet[\"seed\"])"
   ]
  },
  {
   "cell_type": "code",
   "execution_count": 10,
   "metadata": {},
   "outputs": [
    {
     "ename": "BadApiResponse",
     "evalue": "400 response from node: Tip not found: 999999999999999999999999999999999999999999999999999999999999999999999999999999999",
     "output_type": "error",
     "traceback": [
      "\u001b[0;31m---------------------------------------------------------------------------\u001b[0m",
      "\u001b[0;31mBadApiResponse\u001b[0m                            Traceback (most recent call last)",
      "\u001b[0;32m<ipython-input-10-8bb66fcec8e2>\u001b[0m in \u001b[0;36m<module>\u001b[0;34m()\u001b[0m\n\u001b[1;32m      1\u001b[0m api.send_transfer(transfers = [proposedTransaction], \n\u001b[1;32m      2\u001b[0m                   \u001b[0mdepth\u001b[0m \u001b[0;34m=\u001b[0m \u001b[0;36m1\u001b[0m\u001b[0;34m,\u001b[0m\u001b[0;34m\u001b[0m\u001b[0m\n\u001b[0;32m----> 3\u001b[0;31m                   \u001b[0minputs\u001b[0m \u001b[0;34m=\u001b[0m \u001b[0;34m[\u001b[0m\u001b[0miota\u001b[0m\u001b[0;34m.\u001b[0m\u001b[0mAddress\u001b[0m\u001b[0;34m(\u001b[0m\u001b[0msender_wallet\u001b[0m\u001b[0;34m[\u001b[0m\u001b[0;34m\"address\"\u001b[0m\u001b[0;34m]\u001b[0m\u001b[0;34m,\u001b[0m \u001b[0mkey_index\u001b[0m\u001b[0;34m=\u001b[0m\u001b[0;36m0\u001b[0m\u001b[0;34m,\u001b[0m \u001b[0msecurity_level\u001b[0m\u001b[0;34m=\u001b[0m\u001b[0;36m2\u001b[0m\u001b[0;34m)\u001b[0m\u001b[0;34m]\u001b[0m\u001b[0;34m\u001b[0m\u001b[0m\n\u001b[0m\u001b[1;32m      4\u001b[0m                  )\n",
      "\u001b[0;32m~/anaconda3/envs/PyOTA/lib/python3.6/site-packages/iota/api.py\u001b[0m in \u001b[0;36msend_transfer\u001b[0;34m(self, depth, transfers, inputs, change_address, min_weight_magnitude)\u001b[0m\n\u001b[1;32m    904\u001b[0m       \u001b[0minputs\u001b[0m              \u001b[0;34m=\u001b[0m \u001b[0minputs\u001b[0m\u001b[0;34m,\u001b[0m\u001b[0;34m\u001b[0m\u001b[0m\n\u001b[1;32m    905\u001b[0m       \u001b[0mchangeAddress\u001b[0m       \u001b[0;34m=\u001b[0m \u001b[0mchange_address\u001b[0m\u001b[0;34m,\u001b[0m\u001b[0;34m\u001b[0m\u001b[0m\n\u001b[0;32m--> 906\u001b[0;31m       \u001b[0mminWeightMagnitude\u001b[0m  \u001b[0;34m=\u001b[0m \u001b[0mmin_weight_magnitude\u001b[0m\u001b[0;34m,\u001b[0m\u001b[0;34m\u001b[0m\u001b[0m\n\u001b[0m\u001b[1;32m    907\u001b[0m     )\n\u001b[1;32m    908\u001b[0m \u001b[0;34m\u001b[0m\u001b[0m\n",
      "\u001b[0;32m~/anaconda3/envs/PyOTA/lib/python3.6/site-packages/iota/commands/__init__.py\u001b[0m in \u001b[0;36m__call__\u001b[0;34m(self, **kwargs)\u001b[0m\n\u001b[1;32m    128\u001b[0m       \u001b[0mself\u001b[0m\u001b[0;34m.\u001b[0m\u001b[0mrequest\u001b[0m \u001b[0;34m=\u001b[0m \u001b[0mreplacement\u001b[0m\u001b[0;34m\u001b[0m\u001b[0m\n\u001b[1;32m    129\u001b[0m \u001b[0;34m\u001b[0m\u001b[0m\n\u001b[0;32m--> 130\u001b[0;31m     \u001b[0mself\u001b[0m\u001b[0;34m.\u001b[0m\u001b[0mresponse\u001b[0m \u001b[0;34m=\u001b[0m \u001b[0mself\u001b[0m\u001b[0;34m.\u001b[0m\u001b[0m_execute\u001b[0m\u001b[0;34m(\u001b[0m\u001b[0mself\u001b[0m\u001b[0;34m.\u001b[0m\u001b[0mrequest\u001b[0m\u001b[0;34m)\u001b[0m\u001b[0;34m\u001b[0m\u001b[0m\n\u001b[0m\u001b[1;32m    131\u001b[0m \u001b[0;34m\u001b[0m\u001b[0m\n\u001b[1;32m    132\u001b[0m     \u001b[0mreplacement\u001b[0m \u001b[0;34m=\u001b[0m \u001b[0mself\u001b[0m\u001b[0;34m.\u001b[0m\u001b[0m_prepare_response\u001b[0m\u001b[0;34m(\u001b[0m\u001b[0mself\u001b[0m\u001b[0;34m.\u001b[0m\u001b[0mresponse\u001b[0m\u001b[0;34m)\u001b[0m\u001b[0;34m\u001b[0m\u001b[0m\n",
      "\u001b[0;32m~/anaconda3/envs/PyOTA/lib/python3.6/site-packages/iota/commands/extended/send_transfer.py\u001b[0m in \u001b[0;36m_execute\u001b[0;34m(self, request)\u001b[0m\n\u001b[1;32m     45\u001b[0m       \u001b[0minputs\u001b[0m          \u001b[0;34m=\u001b[0m \u001b[0minputs\u001b[0m\u001b[0;34m,\u001b[0m\u001b[0;34m\u001b[0m\u001b[0m\n\u001b[1;32m     46\u001b[0m       \u001b[0mseed\u001b[0m            \u001b[0;34m=\u001b[0m \u001b[0mseed\u001b[0m\u001b[0;34m,\u001b[0m\u001b[0;34m\u001b[0m\u001b[0m\n\u001b[0;32m---> 47\u001b[0;31m       \u001b[0mtransfers\u001b[0m       \u001b[0;34m=\u001b[0m \u001b[0mtransfers\u001b[0m\u001b[0;34m,\u001b[0m\u001b[0;34m\u001b[0m\u001b[0m\n\u001b[0m\u001b[1;32m     48\u001b[0m     )\n\u001b[1;32m     49\u001b[0m \u001b[0;34m\u001b[0m\u001b[0m\n",
      "\u001b[0;32m~/anaconda3/envs/PyOTA/lib/python3.6/site-packages/iota/commands/__init__.py\u001b[0m in \u001b[0;36m__call__\u001b[0;34m(self, **kwargs)\u001b[0m\n\u001b[1;32m    128\u001b[0m       \u001b[0mself\u001b[0m\u001b[0;34m.\u001b[0m\u001b[0mrequest\u001b[0m \u001b[0;34m=\u001b[0m \u001b[0mreplacement\u001b[0m\u001b[0;34m\u001b[0m\u001b[0m\n\u001b[1;32m    129\u001b[0m \u001b[0;34m\u001b[0m\u001b[0m\n\u001b[0;32m--> 130\u001b[0;31m     \u001b[0mself\u001b[0m\u001b[0;34m.\u001b[0m\u001b[0mresponse\u001b[0m \u001b[0;34m=\u001b[0m \u001b[0mself\u001b[0m\u001b[0;34m.\u001b[0m\u001b[0m_execute\u001b[0m\u001b[0;34m(\u001b[0m\u001b[0mself\u001b[0m\u001b[0;34m.\u001b[0m\u001b[0mrequest\u001b[0m\u001b[0;34m)\u001b[0m\u001b[0;34m\u001b[0m\u001b[0m\n\u001b[0m\u001b[1;32m    131\u001b[0m \u001b[0;34m\u001b[0m\u001b[0m\n\u001b[1;32m    132\u001b[0m     \u001b[0mreplacement\u001b[0m \u001b[0;34m=\u001b[0m \u001b[0mself\u001b[0m\u001b[0;34m.\u001b[0m\u001b[0m_prepare_response\u001b[0m\u001b[0;34m(\u001b[0m\u001b[0mself\u001b[0m\u001b[0;34m.\u001b[0m\u001b[0mresponse\u001b[0m\u001b[0;34m)\u001b[0m\u001b[0;34m\u001b[0m\u001b[0m\n",
      "\u001b[0;32m~/anaconda3/envs/PyOTA/lib/python3.6/site-packages/iota/commands/extended/prepare_transfer.py\u001b[0m in \u001b[0;36m_execute\u001b[0;34m(self, request)\u001b[0m\n\u001b[1;32m     63\u001b[0m \u001b[0;34m\u001b[0m\u001b[0m\n\u001b[1;32m     64\u001b[0m         gb_response = GetBalancesCommand(self.adapter)(\n\u001b[0;32m---> 65\u001b[0;31m           \u001b[0maddresses\u001b[0m \u001b[0;34m=\u001b[0m \u001b[0;34m[\u001b[0m\u001b[0mi\u001b[0m\u001b[0;34m.\u001b[0m\u001b[0maddress\u001b[0m \u001b[0;32mfor\u001b[0m \u001b[0mi\u001b[0m \u001b[0;32min\u001b[0m \u001b[0mproposed_inputs\u001b[0m\u001b[0;34m]\u001b[0m\u001b[0;34m,\u001b[0m\u001b[0;34m\u001b[0m\u001b[0m\n\u001b[0m\u001b[1;32m     66\u001b[0m         )\n\u001b[1;32m     67\u001b[0m \u001b[0;34m\u001b[0m\u001b[0m\n",
      "\u001b[0;32m~/anaconda3/envs/PyOTA/lib/python3.6/site-packages/iota/commands/__init__.py\u001b[0m in \u001b[0;36m__call__\u001b[0;34m(self, **kwargs)\u001b[0m\n\u001b[1;32m    128\u001b[0m       \u001b[0mself\u001b[0m\u001b[0;34m.\u001b[0m\u001b[0mrequest\u001b[0m \u001b[0;34m=\u001b[0m \u001b[0mreplacement\u001b[0m\u001b[0;34m\u001b[0m\u001b[0m\n\u001b[1;32m    129\u001b[0m \u001b[0;34m\u001b[0m\u001b[0m\n\u001b[0;32m--> 130\u001b[0;31m     \u001b[0mself\u001b[0m\u001b[0;34m.\u001b[0m\u001b[0mresponse\u001b[0m \u001b[0;34m=\u001b[0m \u001b[0mself\u001b[0m\u001b[0;34m.\u001b[0m\u001b[0m_execute\u001b[0m\u001b[0;34m(\u001b[0m\u001b[0mself\u001b[0m\u001b[0;34m.\u001b[0m\u001b[0mrequest\u001b[0m\u001b[0;34m)\u001b[0m\u001b[0;34m\u001b[0m\u001b[0m\n\u001b[0m\u001b[1;32m    131\u001b[0m \u001b[0;34m\u001b[0m\u001b[0m\n\u001b[1;32m    132\u001b[0m     \u001b[0mreplacement\u001b[0m \u001b[0;34m=\u001b[0m \u001b[0mself\u001b[0m\u001b[0;34m.\u001b[0m\u001b[0m_prepare_response\u001b[0m\u001b[0;34m(\u001b[0m\u001b[0mself\u001b[0m\u001b[0;34m.\u001b[0m\u001b[0mresponse\u001b[0m\u001b[0;34m)\u001b[0m\u001b[0;34m\u001b[0m\u001b[0m\n",
      "\u001b[0;32m~/anaconda3/envs/PyOTA/lib/python3.6/site-packages/iota/commands/__init__.py\u001b[0m in \u001b[0;36m_execute\u001b[0;34m(self, request)\u001b[0m\n\u001b[1;32m    156\u001b[0m     \"\"\"\n\u001b[1;32m    157\u001b[0m     \u001b[0mrequest\u001b[0m\u001b[0;34m[\u001b[0m\u001b[0;34m'command'\u001b[0m\u001b[0;34m]\u001b[0m \u001b[0;34m=\u001b[0m \u001b[0mself\u001b[0m\u001b[0;34m.\u001b[0m\u001b[0mcommand\u001b[0m\u001b[0;34m\u001b[0m\u001b[0m\n\u001b[0;32m--> 158\u001b[0;31m     \u001b[0;32mreturn\u001b[0m \u001b[0mself\u001b[0m\u001b[0;34m.\u001b[0m\u001b[0madapter\u001b[0m\u001b[0;34m.\u001b[0m\u001b[0msend_request\u001b[0m\u001b[0;34m(\u001b[0m\u001b[0mrequest\u001b[0m\u001b[0;34m)\u001b[0m\u001b[0;34m\u001b[0m\u001b[0m\n\u001b[0m\u001b[1;32m    159\u001b[0m \u001b[0;34m\u001b[0m\u001b[0m\n\u001b[1;32m    160\u001b[0m   \u001b[0;34m@\u001b[0m\u001b[0mabstract_method\u001b[0m\u001b[0;34m\u001b[0m\u001b[0m\n",
      "\u001b[0;32m~/anaconda3/envs/PyOTA/lib/python3.6/site-packages/iota/adapter/__init__.py\u001b[0m in \u001b[0;36msend_request\u001b[0;34m(self, payload, **kwargs)\u001b[0m\n\u001b[1;32m    302\u001b[0m     )\n\u001b[1;32m    303\u001b[0m \u001b[0;34m\u001b[0m\u001b[0m\n\u001b[0;32m--> 304\u001b[0;31m     \u001b[0;32mreturn\u001b[0m \u001b[0mself\u001b[0m\u001b[0;34m.\u001b[0m\u001b[0m_interpret_response\u001b[0m\u001b[0;34m(\u001b[0m\u001b[0mresponse\u001b[0m\u001b[0;34m,\u001b[0m \u001b[0mpayload\u001b[0m\u001b[0;34m,\u001b[0m \u001b[0;34m{\u001b[0m\u001b[0mcodes\u001b[0m\u001b[0;34m[\u001b[0m\u001b[0;34m'ok'\u001b[0m\u001b[0;34m]\u001b[0m\u001b[0;34m}\u001b[0m\u001b[0;34m)\u001b[0m\u001b[0;34m\u001b[0m\u001b[0m\n\u001b[0m\u001b[1;32m    305\u001b[0m \u001b[0;34m\u001b[0m\u001b[0m\n\u001b[1;32m    306\u001b[0m   \u001b[0;32mdef\u001b[0m \u001b[0m_send_http_request\u001b[0m\u001b[0;34m(\u001b[0m\u001b[0mself\u001b[0m\u001b[0;34m,\u001b[0m \u001b[0murl\u001b[0m\u001b[0;34m,\u001b[0m \u001b[0mpayload\u001b[0m\u001b[0;34m,\u001b[0m \u001b[0mmethod\u001b[0m\u001b[0;34m=\u001b[0m\u001b[0;34m'post'\u001b[0m\u001b[0;34m,\u001b[0m \u001b[0;34m**\u001b[0m\u001b[0mkwargs\u001b[0m\u001b[0;34m)\u001b[0m\u001b[0;34m:\u001b[0m\u001b[0;34m\u001b[0m\u001b[0m\n",
      "\u001b[0;32m~/anaconda3/envs/PyOTA/lib/python3.6/site-packages/iota/adapter/__init__.py\u001b[0m in \u001b[0;36m_interpret_response\u001b[0;34m(self, response, payload, expected_status)\u001b[0m\n\u001b[1;32m    443\u001b[0m       context = {\n\u001b[1;32m    444\u001b[0m         \u001b[0;34m'request'\u001b[0m\u001b[0;34m:\u001b[0m  \u001b[0mpayload\u001b[0m\u001b[0;34m,\u001b[0m\u001b[0;34m\u001b[0m\u001b[0m\n\u001b[0;32m--> 445\u001b[0;31m         \u001b[0;34m'response'\u001b[0m\u001b[0;34m:\u001b[0m \u001b[0mdecoded\u001b[0m\u001b[0;34m,\u001b[0m\u001b[0;34m\u001b[0m\u001b[0m\n\u001b[0m\u001b[1;32m    446\u001b[0m       },\n\u001b[1;32m    447\u001b[0m     )\n",
      "\u001b[0;31mBadApiResponse\u001b[0m: 400 response from node: Tip not found: 999999999999999999999999999999999999999999999999999999999999999999999999999999999"
     ]
    }
   ],
   "source": [
    "api.send_transfer(transfers = [proposedTransaction], \n",
    "                  depth = 1,\n",
    "                  inputs = [iota.Address(sender_wallet[\"address\"], key_index=0, security_level=2)]\n",
    "                 )"
   ]
  },
  {
   "cell_type": "markdown",
   "metadata": {},
   "source": [
    "## Versions of modules used in tutorial:"
   ]
  },
  {
   "cell_type": "code",
   "execution_count": null,
   "metadata": {},
   "outputs": [],
   "source": [
    "assert iota.__version__ == '2.0.4'\n",
    "assert requests.__version__ == '2.18.4'"
   ]
  }
 ],
 "metadata": {
  "kernelspec": {
   "display_name": "Python 3",
   "language": "python",
   "name": "python3"
  },
  "language_info": {
   "codemirror_mode": {
    "name": "ipython",
    "version": 3
   },
   "file_extension": ".py",
   "mimetype": "text/x-python",
   "name": "python",
   "nbconvert_exporter": "python",
   "pygments_lexer": "ipython3",
   "version": "3.6.4"
  }
 },
 "nbformat": 4,
 "nbformat_minor": 2
}
