{
 "cells": [
  {
   "cell_type": "markdown",
   "metadata": {},
   "source": [
    "# PyOTA \"Hello world\" tutorial.\n",
    "\n",
    "The goal of this tutorial is to create new empty wallet based on new random seed and to transfer IOTA tokens to it from wallet generated via faucet."
   ]
  },
  {
   "cell_type": "markdown",
   "metadata": {},
   "source": [
    "## Imports\n",
    "Currently we have following imports:\n",
    " * iota - module name for [PyOTA](https://pyota.readthedocs.io/en/latest/)\n",
    " * secrets - \"The [secrets](https://docs.python.org/3/library/secrets.html#module-secrets) module is used for generating cryptographically strong random numbers suitable for managing data such as passwords, account authentication, security tokens, and related secrets.\"\n",
    " * requests - \"[Requests](http://docs.python-requests.org/en/master/) is an elegant and simple HTTP library for Python, built for human beings.\""
   ]
  },
  {
   "cell_type": "code",
   "execution_count": 1,
   "metadata": {},
   "outputs": [],
   "source": [
    "import iota\n",
    "import secrets\n",
    "import requests"
   ]
  },
  {
   "cell_type": "markdown",
   "metadata": {},
   "source": [
    "# Generating part\n",
    "This part is dedicated to generate receiver and sender seeds and addreses. If you run this code from top to bottom, new pairs will be generated every time. This might be not intended behaviour. If you like to use constant values while experimenting, re run your code from **Using part**."
   ]
  },
  {
   "cell_type": "markdown",
   "metadata": {},
   "source": [
    "## Generating and printing receiver seed\n",
    "We can easily and securely generate seed which will be used as seed for receiver side."
   ]
  },
  {
   "cell_type": "code",
   "execution_count": 2,
   "metadata": {},
   "outputs": [
    {
     "name": "stdout",
     "output_type": "stream",
     "text": [
      "QVWIMXF9QVFJKWOBXAGEUFYLBJH9SUZDZUPSDABOFSVTL9FCSZCRFESPZNZB9QVTLBSQZVWNTUZPWERZW\n"
     ]
    }
   ],
   "source": [
    "chars = 'ABCDEFGHIJKLMNOPQRSTUVWXYZ9'\n",
    "receiver_seed = ''\n",
    "for i in range(81): receiver_seed += secrets.choice(chars)\n",
    "    \n",
    "print(receiver_seed)"
   ]
  },
  {
   "cell_type": "markdown",
   "metadata": {},
   "source": [
    "## Connecting to testnet\n",
    "Since we would like to be as close to actual Main IOTA network we will use IOTA testnet. IOTA testnet is supposed to be almost identical in operating as mainnet but has faster confirmation times and is reseted regurally, so tokens used there have no value. Here is list of example testnet nodes:\n",
    "\n",
    "* http://p103.iotaledger.net:14700\n",
    "* https://testnet140.tangle.works:443\n",
    "* http://p101.iotaledger.net:14700\n",
    "\n",
    "Please note that they could be down or unresponsive. "
   ]
  },
  {
   "cell_type": "code",
   "execution_count": 70,
   "metadata": {},
   "outputs": [],
   "source": [
    "uri = 'https://testnet140.tangle.works:443'"
   ]
  },
  {
   "cell_type": "code",
   "execution_count": 71,
   "metadata": {},
   "outputs": [
    {
     "data": {
      "text/plain": [
       "{'appName': 'IRI Testnet',\n",
       " 'appVersion': '1.4.2.1',\n",
       " 'duration': 0,\n",
       " 'jreAvailableProcessors': 8,\n",
       " 'jreFreeMemory': 330263224,\n",
       " 'jreMaxMemory': 15271460864,\n",
       " 'jreTotalMemory': 1800929280,\n",
       " 'jreVersion': '1.8.0_161',\n",
       " 'latestMilestone': TransactionHash(b'KBCCRBR99DBMPBQEIJC9NHDRJASYUYJXXUGKZK9ZYKYVTJXAFCTYIWSATZSUGIMXHL9BQG9FVNNDGI999'),\n",
       " 'latestMilestoneIndex': 636075,\n",
       " 'latestSolidSubtangleMilestone': TransactionHash(b'KBCCRBR99DBMPBQEIJC9NHDRJASYUYJXXUGKZK9ZYKYVTJXAFCTYIWSATZSUGIMXHL9BQG9FVNNDGI999'),\n",
       " 'latestSolidSubtangleMilestoneIndex': 636075,\n",
       " 'neighbors': 1,\n",
       " 'packetsQueueSize': 0,\n",
       " 'time': 1518786238107,\n",
       " 'tips': 13,\n",
       " 'transactionsToRequest': 13}"
      ]
     },
     "execution_count": 71,
     "metadata": {},
     "output_type": "execute_result"
    }
   ],
   "source": [
    "api = iota.Iota(uri, seed=receiver_seed)\n",
    "api.get_node_info()"
   ]
  },
  {
   "cell_type": "markdown",
   "metadata": {},
   "source": [
    "## Prepare receiver address\n",
    "We already have seed for receiver (in variable **receiver_seed**), now we would like to have his address. Lets generate one:"
   ]
  },
  {
   "cell_type": "code",
   "execution_count": 4,
   "metadata": {},
   "outputs": [
    {
     "name": "stdout",
     "output_type": "stream",
     "text": [
      "Receiver address 0 is: DZMTOBWDQ9DZPWGJ9BOUSCOWKJDOFSJVCIXLLSEEQDRDUVOIY9QEKE9JLBNWAPLLFTELGATRGVIIV9QYW\n"
     ]
    }
   ],
   "source": [
    "gna_result = api.get_new_addresses(count=1)\n",
    "addresses = gna_result['addresses']\n",
    "receiver_address = addresses[0]\n",
    "print(\"Receiver address 0 is: \" + str(receiver_address))"
   ]
  },
  {
   "cell_type": "markdown",
   "metadata": {},
   "source": [
    "## Prepare sender - how to get testnet tokens?\n",
    "If we are generating new wallets from new seeds then thoose wallets will be empty (well, [probably](https://matthewwinstonjohnson.gitbooks.io/iota-guide-and-faq/how-secure-is-my-seed.html)). Since we would like to simulate transfer of \"value\" between two parties, we would need to have some tokens in at least one wallet in our setup. Thanks to IOTA devs, there is service called faucet which is genearting seeds and wallet addreses with some testnet tokens in it (2K at the moment). They also provide JSON API so we can use it right away."
   ]
  },
  {
   "cell_type": "code",
   "execution_count": 5,
   "metadata": {},
   "outputs": [
    {
     "name": "stdout",
     "output_type": "stream",
     "text": [
      "Faucet response: 200\n"
     ]
    }
   ],
   "source": [
    "r = requests.get('https://seeedy.tangle.works/')\n",
    "print(\"Faucet response: \" + str(r.status_code))\n",
    "sender_wallet = r.json()"
   ]
  },
  {
   "cell_type": "code",
   "execution_count": 39,
   "metadata": {},
   "outputs": [],
   "source": [
    "sender_seed = sender_wallet[\"seed\"]\n",
    "sender_address = sender_wallet[\"address\"]"
   ]
  },
  {
   "cell_type": "code",
   "execution_count": 40,
   "metadata": {},
   "outputs": [
    {
     "name": "stdout",
     "output_type": "stream",
     "text": [
      "Sender seed: AESZMB9SVDQBWRQXSXOCDJVAZOVGMDCPMGHJIQASJJNGYYZUSSBKXPTBAIXSFFYBPQCNAUMLKNEGAHL9X\n",
      "Sender address: ETQFDQUQHRMO9MXPEKCZMFWULGKOBZFCAUEQRSAFQTUOQIYZM9OJAGKMIWJIGURGMDDBONFIVEBOLGQ9C\n",
      "Sender amount: 2000\n"
     ]
    }
   ],
   "source": [
    "print(\"Sender seed: \" + sender_seed)\n",
    "print(\"Sender address: \" + sender_address)\n",
    "print(\"Sender amount: \" + str(sender_wallet[\"amount\"]))"
   ]
  },
  {
   "cell_type": "markdown",
   "metadata": {},
   "source": [
    "# Using part\n",
    "To this moment we should have seeds and addreses for sender (with tokens) and receiver. They are in:\n",
    "* sender_seed\n",
    "* sender_address\n",
    "* receiver_seed\n",
    "* receiver_address"
   ]
  },
  {
   "cell_type": "code",
   "execution_count": 51,
   "metadata": {},
   "outputs": [
    {
     "data": {
      "text/plain": [
       "2000"
      ]
     },
     "execution_count": 51,
     "metadata": {},
     "output_type": "execute_result"
    }
   ],
   "source": [
    "api = iota.Iota(uri, seed=sender_seed)\n",
    "sender_account = api.get_account_data(start=0)\n",
    "sender_account[\"balance\"]"
   ]
  },
  {
   "cell_type": "code",
   "execution_count": 52,
   "metadata": {},
   "outputs": [
    {
     "data": {
      "text/plain": [
       "0"
      ]
     },
     "execution_count": 52,
     "metadata": {},
     "output_type": "execute_result"
    }
   ],
   "source": [
    "api = iota.Iota(uri, seed=receiver_seed)\n",
    "receiver_account = api.get_account_data(start=0)\n",
    "receiver_account[\"balance\"]"
   ]
  },
  {
   "cell_type": "markdown",
   "metadata": {},
   "source": [
    "## Prepare transaction"
   ]
  },
  {
   "cell_type": "markdown",
   "metadata": {},
   "source": [
    "Lets switch back to sender seed and prapare message. Such message is build from string and will be attached to transaction, so receiver will be able to easily see it."
   ]
  },
  {
   "cell_type": "code",
   "execution_count": 10,
   "metadata": {},
   "outputs": [],
   "source": [
    "api = iota.Iota(uri, seed=sender_wallet[\"seed\"])"
   ]
  },
  {
   "cell_type": "code",
   "execution_count": 53,
   "metadata": {},
   "outputs": [],
   "source": [
    "message = (\"Here, have all my testnet tokens!\")"
   ]
  },
  {
   "cell_type": "markdown",
   "metadata": {},
   "source": [
    "Proposed transaction must consist receiver **address**, **value** we would like to send and **message** which will be added to transfer."
   ]
  },
  {
   "cell_type": "code",
   "execution_count": 75,
   "metadata": {},
   "outputs": [],
   "source": [
    "proposedTransaction = iota.ProposedTransaction(address = iota.Address(receiver_address), \n",
    "                                               value = sender_wallet[\"amount\"], \n",
    "                                               message = iota.TryteString.from_string(message)\n",
    "                                              )"
   ]
  },
  {
   "cell_type": "code",
   "execution_count": 76,
   "metadata": {},
   "outputs": [
    {
     "data": {
      "text/plain": [
       "ProposedTransaction(**{'address': Address(b'DZMTOBWDQ9DZPWGJ9BOUSCOWKJDOFSJVCIXLLSEEQDRDUVOIY9QEKE9JLBNWAPLLFTELGATRGVIIV9QYW'),\n",
       "                     'attachment_timestamp': 0,\n",
       "                     'attachment_timestamp_lower_bound': 0,\n",
       "                     'attachment_timestamp_upper_bound': 0,\n",
       "                     'branch_transaction_hash': TransactionHash(b'999999999999999999999999999999999999999999999999999999999999999999999999999999999'),\n",
       "                     'bundle_hash': None,\n",
       "                     'current_index': None,\n",
       "                     'hash_': None,\n",
       "                     'last_index': None,\n",
       "                     'legacy_tag': Tag(b'999999999999999999999999999'),\n",
       "                     'nonce': Nonce(b'999999999999999999999999999'),\n",
       "                     'signature_message_fragment': None,\n",
       "                     'tag': Tag(b'999999999999999999999999999'),\n",
       "                     'timestamp': 1518790597,\n",
       "                     'trunk_transaction_hash': TransactionHash(b'999999999999999999999999999999999999999999999999999999999999999999999999999999999'),\n",
       "                     'value': 2000})"
      ]
     },
     "execution_count": 76,
     "metadata": {},
     "output_type": "execute_result"
    }
   ],
   "source": [
    "proposedTransaction"
   ]
  },
  {
   "cell_type": "markdown",
   "metadata": {},
   "source": [
    "# Execute transfer"
   ]
  },
  {
   "cell_type": "code",
   "execution_count": 77,
   "metadata": {},
   "outputs": [],
   "source": [
    "depth = 3"
   ]
  },
  {
   "cell_type": "code",
   "execution_count": 78,
   "metadata": {},
   "outputs": [
    {
     "ename": "BadApiResponse",
     "evalue": "400 response from node: The subtangle is not solid",
     "output_type": "error",
     "traceback": [
      "\u001b[0;31m---------------------------------------------------------------------------\u001b[0m",
      "\u001b[0;31mBadApiResponse\u001b[0m                            Traceback (most recent call last)",
      "\u001b[0;32m<ipython-input-78-3cfa5619aa4f>\u001b[0m in \u001b[0;36m<module>\u001b[0;34m()\u001b[0m\n\u001b[1;32m      1\u001b[0m transfer = api.send_transfer(transfers = [proposedTransaction], \n\u001b[1;32m      2\u001b[0m                   \u001b[0mdepth\u001b[0m \u001b[0;34m=\u001b[0m \u001b[0mdepth\u001b[0m\u001b[0;34m,\u001b[0m\u001b[0;34m\u001b[0m\u001b[0m\n\u001b[0;32m----> 3\u001b[0;31m                   \u001b[0minputs\u001b[0m \u001b[0;34m=\u001b[0m \u001b[0;34m[\u001b[0m\u001b[0miota\u001b[0m\u001b[0;34m.\u001b[0m\u001b[0mAddress\u001b[0m\u001b[0;34m(\u001b[0m\u001b[0msender_wallet\u001b[0m\u001b[0;34m[\u001b[0m\u001b[0;34m\"address\"\u001b[0m\u001b[0;34m]\u001b[0m\u001b[0;34m,\u001b[0m \u001b[0mkey_index\u001b[0m\u001b[0;34m=\u001b[0m\u001b[0;36m0\u001b[0m\u001b[0;34m,\u001b[0m \u001b[0msecurity_level\u001b[0m\u001b[0;34m=\u001b[0m\u001b[0;36m2\u001b[0m\u001b[0;34m)\u001b[0m\u001b[0;34m]\u001b[0m\u001b[0;34m\u001b[0m\u001b[0m\n\u001b[0m\u001b[1;32m      4\u001b[0m                  )\n",
      "\u001b[0;32m~/anaconda3/envs/PyOTA/lib/python3.6/site-packages/iota/api.py\u001b[0m in \u001b[0;36msend_transfer\u001b[0;34m(self, depth, transfers, inputs, change_address, min_weight_magnitude)\u001b[0m\n\u001b[1;32m    904\u001b[0m       \u001b[0minputs\u001b[0m              \u001b[0;34m=\u001b[0m \u001b[0minputs\u001b[0m\u001b[0;34m,\u001b[0m\u001b[0;34m\u001b[0m\u001b[0m\n\u001b[1;32m    905\u001b[0m       \u001b[0mchangeAddress\u001b[0m       \u001b[0;34m=\u001b[0m \u001b[0mchange_address\u001b[0m\u001b[0;34m,\u001b[0m\u001b[0;34m\u001b[0m\u001b[0m\n\u001b[0;32m--> 906\u001b[0;31m       \u001b[0mminWeightMagnitude\u001b[0m  \u001b[0;34m=\u001b[0m \u001b[0mmin_weight_magnitude\u001b[0m\u001b[0;34m,\u001b[0m\u001b[0;34m\u001b[0m\u001b[0m\n\u001b[0m\u001b[1;32m    907\u001b[0m     )\n\u001b[1;32m    908\u001b[0m \u001b[0;34m\u001b[0m\u001b[0m\n",
      "\u001b[0;32m~/anaconda3/envs/PyOTA/lib/python3.6/site-packages/iota/commands/__init__.py\u001b[0m in \u001b[0;36m__call__\u001b[0;34m(self, **kwargs)\u001b[0m\n\u001b[1;32m    128\u001b[0m       \u001b[0mself\u001b[0m\u001b[0;34m.\u001b[0m\u001b[0mrequest\u001b[0m \u001b[0;34m=\u001b[0m \u001b[0mreplacement\u001b[0m\u001b[0;34m\u001b[0m\u001b[0m\n\u001b[1;32m    129\u001b[0m \u001b[0;34m\u001b[0m\u001b[0m\n\u001b[0;32m--> 130\u001b[0;31m     \u001b[0mself\u001b[0m\u001b[0;34m.\u001b[0m\u001b[0mresponse\u001b[0m \u001b[0;34m=\u001b[0m \u001b[0mself\u001b[0m\u001b[0;34m.\u001b[0m\u001b[0m_execute\u001b[0m\u001b[0;34m(\u001b[0m\u001b[0mself\u001b[0m\u001b[0;34m.\u001b[0m\u001b[0mrequest\u001b[0m\u001b[0;34m)\u001b[0m\u001b[0;34m\u001b[0m\u001b[0m\n\u001b[0m\u001b[1;32m    131\u001b[0m \u001b[0;34m\u001b[0m\u001b[0m\n\u001b[1;32m    132\u001b[0m     \u001b[0mreplacement\u001b[0m \u001b[0;34m=\u001b[0m \u001b[0mself\u001b[0m\u001b[0;34m.\u001b[0m\u001b[0m_prepare_response\u001b[0m\u001b[0;34m(\u001b[0m\u001b[0mself\u001b[0m\u001b[0;34m.\u001b[0m\u001b[0mresponse\u001b[0m\u001b[0;34m)\u001b[0m\u001b[0;34m\u001b[0m\u001b[0m\n",
      "\u001b[0;32m~/anaconda3/envs/PyOTA/lib/python3.6/site-packages/iota/commands/extended/send_transfer.py\u001b[0m in \u001b[0;36m_execute\u001b[0;34m(self, request)\u001b[0m\n\u001b[1;32m     52\u001b[0m       \u001b[0mminWeightMagnitude\u001b[0m  \u001b[0;34m=\u001b[0m \u001b[0mmin_weight_magnitude\u001b[0m\u001b[0;34m,\u001b[0m\u001b[0;34m\u001b[0m\u001b[0m\n\u001b[1;32m     53\u001b[0m       \u001b[0mtrytes\u001b[0m              \u001b[0;34m=\u001b[0m \u001b[0mpt_response\u001b[0m\u001b[0;34m[\u001b[0m\u001b[0;34m'trytes'\u001b[0m\u001b[0;34m]\u001b[0m\u001b[0;34m,\u001b[0m\u001b[0;34m\u001b[0m\u001b[0m\n\u001b[0;32m---> 54\u001b[0;31m       \u001b[0mreference\u001b[0m           \u001b[0;34m=\u001b[0m \u001b[0mreference\u001b[0m\u001b[0;34m,\u001b[0m\u001b[0;34m\u001b[0m\u001b[0m\n\u001b[0m\u001b[1;32m     55\u001b[0m     )\n\u001b[1;32m     56\u001b[0m \u001b[0;34m\u001b[0m\u001b[0m\n",
      "\u001b[0;32m~/anaconda3/envs/PyOTA/lib/python3.6/site-packages/iota/commands/__init__.py\u001b[0m in \u001b[0;36m__call__\u001b[0;34m(self, **kwargs)\u001b[0m\n\u001b[1;32m    128\u001b[0m       \u001b[0mself\u001b[0m\u001b[0;34m.\u001b[0m\u001b[0mrequest\u001b[0m \u001b[0;34m=\u001b[0m \u001b[0mreplacement\u001b[0m\u001b[0;34m\u001b[0m\u001b[0m\n\u001b[1;32m    129\u001b[0m \u001b[0;34m\u001b[0m\u001b[0m\n\u001b[0;32m--> 130\u001b[0;31m     \u001b[0mself\u001b[0m\u001b[0;34m.\u001b[0m\u001b[0mresponse\u001b[0m \u001b[0;34m=\u001b[0m \u001b[0mself\u001b[0m\u001b[0;34m.\u001b[0m\u001b[0m_execute\u001b[0m\u001b[0;34m(\u001b[0m\u001b[0mself\u001b[0m\u001b[0;34m.\u001b[0m\u001b[0mrequest\u001b[0m\u001b[0;34m)\u001b[0m\u001b[0;34m\u001b[0m\u001b[0m\n\u001b[0m\u001b[1;32m    131\u001b[0m \u001b[0;34m\u001b[0m\u001b[0m\n\u001b[1;32m    132\u001b[0m     \u001b[0mreplacement\u001b[0m \u001b[0;34m=\u001b[0m \u001b[0mself\u001b[0m\u001b[0;34m.\u001b[0m\u001b[0m_prepare_response\u001b[0m\u001b[0;34m(\u001b[0m\u001b[0mself\u001b[0m\u001b[0;34m.\u001b[0m\u001b[0mresponse\u001b[0m\u001b[0;34m)\u001b[0m\u001b[0;34m\u001b[0m\u001b[0m\n",
      "\u001b[0;32m~/anaconda3/envs/PyOTA/lib/python3.6/site-packages/iota/commands/extended/send_trytes.py\u001b[0m in \u001b[0;36m_execute\u001b[0;34m(self, request)\u001b[0m\n\u001b[1;32m     43\u001b[0m     gta_response = GetTransactionsToApproveCommand(self.adapter)(\n\u001b[1;32m     44\u001b[0m       \u001b[0mdepth\u001b[0m\u001b[0;34m=\u001b[0m\u001b[0mdepth\u001b[0m\u001b[0;34m,\u001b[0m\u001b[0;34m\u001b[0m\u001b[0m\n\u001b[0;32m---> 45\u001b[0;31m       \u001b[0mreference\u001b[0m\u001b[0;34m=\u001b[0m\u001b[0mreference\u001b[0m\u001b[0;34m,\u001b[0m\u001b[0;34m\u001b[0m\u001b[0m\n\u001b[0m\u001b[1;32m     46\u001b[0m     )\n\u001b[1;32m     47\u001b[0m \u001b[0;34m\u001b[0m\u001b[0m\n",
      "\u001b[0;32m~/anaconda3/envs/PyOTA/lib/python3.6/site-packages/iota/commands/__init__.py\u001b[0m in \u001b[0;36m__call__\u001b[0;34m(self, **kwargs)\u001b[0m\n\u001b[1;32m    128\u001b[0m       \u001b[0mself\u001b[0m\u001b[0;34m.\u001b[0m\u001b[0mrequest\u001b[0m \u001b[0;34m=\u001b[0m \u001b[0mreplacement\u001b[0m\u001b[0;34m\u001b[0m\u001b[0m\n\u001b[1;32m    129\u001b[0m \u001b[0;34m\u001b[0m\u001b[0m\n\u001b[0;32m--> 130\u001b[0;31m     \u001b[0mself\u001b[0m\u001b[0;34m.\u001b[0m\u001b[0mresponse\u001b[0m \u001b[0;34m=\u001b[0m \u001b[0mself\u001b[0m\u001b[0;34m.\u001b[0m\u001b[0m_execute\u001b[0m\u001b[0;34m(\u001b[0m\u001b[0mself\u001b[0m\u001b[0;34m.\u001b[0m\u001b[0mrequest\u001b[0m\u001b[0;34m)\u001b[0m\u001b[0;34m\u001b[0m\u001b[0m\n\u001b[0m\u001b[1;32m    131\u001b[0m \u001b[0;34m\u001b[0m\u001b[0m\n\u001b[1;32m    132\u001b[0m     \u001b[0mreplacement\u001b[0m \u001b[0;34m=\u001b[0m \u001b[0mself\u001b[0m\u001b[0;34m.\u001b[0m\u001b[0m_prepare_response\u001b[0m\u001b[0;34m(\u001b[0m\u001b[0mself\u001b[0m\u001b[0;34m.\u001b[0m\u001b[0mresponse\u001b[0m\u001b[0;34m)\u001b[0m\u001b[0;34m\u001b[0m\u001b[0m\n",
      "\u001b[0;32m~/anaconda3/envs/PyOTA/lib/python3.6/site-packages/iota/commands/__init__.py\u001b[0m in \u001b[0;36m_execute\u001b[0;34m(self, request)\u001b[0m\n\u001b[1;32m    156\u001b[0m     \"\"\"\n\u001b[1;32m    157\u001b[0m     \u001b[0mrequest\u001b[0m\u001b[0;34m[\u001b[0m\u001b[0;34m'command'\u001b[0m\u001b[0;34m]\u001b[0m \u001b[0;34m=\u001b[0m \u001b[0mself\u001b[0m\u001b[0;34m.\u001b[0m\u001b[0mcommand\u001b[0m\u001b[0;34m\u001b[0m\u001b[0m\n\u001b[0;32m--> 158\u001b[0;31m     \u001b[0;32mreturn\u001b[0m \u001b[0mself\u001b[0m\u001b[0;34m.\u001b[0m\u001b[0madapter\u001b[0m\u001b[0;34m.\u001b[0m\u001b[0msend_request\u001b[0m\u001b[0;34m(\u001b[0m\u001b[0mrequest\u001b[0m\u001b[0;34m)\u001b[0m\u001b[0;34m\u001b[0m\u001b[0m\n\u001b[0m\u001b[1;32m    159\u001b[0m \u001b[0;34m\u001b[0m\u001b[0m\n\u001b[1;32m    160\u001b[0m   \u001b[0;34m@\u001b[0m\u001b[0mabstract_method\u001b[0m\u001b[0;34m\u001b[0m\u001b[0m\n",
      "\u001b[0;32m~/anaconda3/envs/PyOTA/lib/python3.6/site-packages/iota/adapter/__init__.py\u001b[0m in \u001b[0;36msend_request\u001b[0;34m(self, payload, **kwargs)\u001b[0m\n\u001b[1;32m    302\u001b[0m     )\n\u001b[1;32m    303\u001b[0m \u001b[0;34m\u001b[0m\u001b[0m\n\u001b[0;32m--> 304\u001b[0;31m     \u001b[0;32mreturn\u001b[0m \u001b[0mself\u001b[0m\u001b[0;34m.\u001b[0m\u001b[0m_interpret_response\u001b[0m\u001b[0;34m(\u001b[0m\u001b[0mresponse\u001b[0m\u001b[0;34m,\u001b[0m \u001b[0mpayload\u001b[0m\u001b[0;34m,\u001b[0m \u001b[0;34m{\u001b[0m\u001b[0mcodes\u001b[0m\u001b[0;34m[\u001b[0m\u001b[0;34m'ok'\u001b[0m\u001b[0;34m]\u001b[0m\u001b[0;34m}\u001b[0m\u001b[0;34m)\u001b[0m\u001b[0;34m\u001b[0m\u001b[0m\n\u001b[0m\u001b[1;32m    305\u001b[0m \u001b[0;34m\u001b[0m\u001b[0m\n\u001b[1;32m    306\u001b[0m   \u001b[0;32mdef\u001b[0m \u001b[0m_send_http_request\u001b[0m\u001b[0;34m(\u001b[0m\u001b[0mself\u001b[0m\u001b[0;34m,\u001b[0m \u001b[0murl\u001b[0m\u001b[0;34m,\u001b[0m \u001b[0mpayload\u001b[0m\u001b[0;34m,\u001b[0m \u001b[0mmethod\u001b[0m\u001b[0;34m=\u001b[0m\u001b[0;34m'post'\u001b[0m\u001b[0;34m,\u001b[0m \u001b[0;34m**\u001b[0m\u001b[0mkwargs\u001b[0m\u001b[0;34m)\u001b[0m\u001b[0;34m:\u001b[0m\u001b[0;34m\u001b[0m\u001b[0m\n",
      "\u001b[0;32m~/anaconda3/envs/PyOTA/lib/python3.6/site-packages/iota/adapter/__init__.py\u001b[0m in \u001b[0;36m_interpret_response\u001b[0;34m(self, response, payload, expected_status)\u001b[0m\n\u001b[1;32m    443\u001b[0m       context = {\n\u001b[1;32m    444\u001b[0m         \u001b[0;34m'request'\u001b[0m\u001b[0;34m:\u001b[0m  \u001b[0mpayload\u001b[0m\u001b[0;34m,\u001b[0m\u001b[0;34m\u001b[0m\u001b[0m\n\u001b[0;32m--> 445\u001b[0;31m         \u001b[0;34m'response'\u001b[0m\u001b[0;34m:\u001b[0m \u001b[0mdecoded\u001b[0m\u001b[0;34m,\u001b[0m\u001b[0;34m\u001b[0m\u001b[0m\n\u001b[0m\u001b[1;32m    446\u001b[0m       },\n\u001b[1;32m    447\u001b[0m     )\n",
      "\u001b[0;31mBadApiResponse\u001b[0m: 400 response from node: The subtangle is not solid"
     ]
    }
   ],
   "source": [
    "transfer = api.send_transfer(transfers = [proposedTransaction], \n",
    "                  depth = depth,\n",
    "                  inputs = [iota.Address(sender_wallet[\"address\"], key_index=0, security_level=2)]\n",
    "                 ) # should work on working and synced node"
   ]
  },
  {
   "cell_type": "code",
   "execution_count": 55,
   "metadata": {},
   "outputs": [
    {
     "name": "stdout",
     "output_type": "stream",
     "text": [
      "DZMTOBWDQ9DZPWGJ9BOUSCOWKJDOFSJVCIXLLSEEQDRDUVOIY9QEKE9JLBNWAPLLFTELGATRGVIIV9QYW SLVJRIMDZETOICVGJXRFKBJHKYAZGSTSRUVVLQYDE9XUKTQBQVNDFAOMXNKELSSTGKDIXSWKORNMA9999\n",
      "ETQFDQUQHRMO9MXPEKCZMFWULGKOBZFCAUEQRSAFQTUOQIYZM9OJAGKMIWJIGURGMDDBONFIVEBOLGQ9C GEEQWJEZOJEPIAIOIATSLVKMDZOJWHNTFQNRACEMZMDDWAQAQXRMCU9NAAMLRMAIHK9FKWEBEQRFZ9999\n",
      "ETQFDQUQHRMO9MXPEKCZMFWULGKOBZFCAUEQRSAFQTUOQIYZM9OJAGKMIWJIGURGMDDBONFIVEBOLGQ9C TCOZUFHESRRAFWRWYT9NHWPFYXKLOLRFHQEWMZKFKHJXRQ9XVOPGCPTBGCCBMLJXZYQGMGTMIXVWZ9999\n"
     ]
    }
   ],
   "source": [
    "transactionHash = []\n",
    "for transaction in transfer[\"bundle\"]:\n",
    "    transactionHash.append(transaction.hash)\n",
    "    print(transaction.address, transaction.hash)"
   ]
  },
  {
   "cell_type": "markdown",
   "metadata": {},
   "source": [
    "Lets check statuses of our transactions. We need hashes of them to be able to check if they were executed."
   ]
  },
  {
   "cell_type": "code",
   "execution_count": 59,
   "metadata": {},
   "outputs": [
    {
     "data": {
      "text/plain": [
       "{'states': {TransactionHash(b'GEEQWJEZOJEPIAIOIATSLVKMDZOJWHNTFQNRACEMZMDDWAQAQXRMCU9NAAMLRMAIHK9FKWEBEQRFZ9999'): False,\n",
       "  TransactionHash(b'SLVJRIMDZETOICVGJXRFKBJHKYAZGSTSRUVVLQYDE9XUKTQBQVNDFAOMXNKELSSTGKDIXSWKORNMA9999'): False,\n",
       "  TransactionHash(b'TCOZUFHESRRAFWRWYT9NHWPFYXKLOLRFHQEWMZKFKHJXRQ9XVOPGCPTBGCCBMLJXZYQGMGTMIXVWZ9999'): False}}"
      ]
     },
     "execution_count": 59,
     "metadata": {},
     "output_type": "execute_result"
    }
   ],
   "source": [
    "api.get_latest_inclusion(transactionHash)"
   ]
  },
  {
   "cell_type": "markdown",
   "metadata": {},
   "source": [
    "If the status is \"True\", it means that transaction was executed and we could see that tokens appeared on receiver side.\n",
    "But if we have only \"False\" that means that our proposed transaction wasnt validated and included in tangle.\n",
    "In this case we could wait or replay our request."
   ]
  },
  {
   "cell_type": "code",
   "execution_count": 65,
   "metadata": {},
   "outputs": [
    {
     "ename": "BadApiResponse",
     "evalue": "400 response from node: The subtangle is not solid",
     "output_type": "error",
     "traceback": [
      "\u001b[0;31m---------------------------------------------------------------------------\u001b[0m",
      "\u001b[0;31mBadApiResponse\u001b[0m                            Traceback (most recent call last)",
      "\u001b[0;32m<ipython-input-65-e564f8d3c1d9>\u001b[0m in \u001b[0;36m<module>\u001b[0;34m()\u001b[0m\n\u001b[0;32m----> 1\u001b[0;31m \u001b[0mapi\u001b[0m\u001b[0;34m.\u001b[0m\u001b[0mreplay_bundle\u001b[0m\u001b[0;34m(\u001b[0m\u001b[0mtransactionHash\u001b[0m\u001b[0;34m[\u001b[0m\u001b[0;36m0\u001b[0m\u001b[0;34m]\u001b[0m\u001b[0;34m,\u001b[0m \u001b[0mdepth\u001b[0m\u001b[0;34m=\u001b[0m\u001b[0mdepth\u001b[0m\u001b[0;34m)\u001b[0m\u001b[0;34m\u001b[0m\u001b[0m\n\u001b[0m",
      "\u001b[0;32m~/anaconda3/envs/PyOTA/lib/python3.6/site-packages/iota/api.py\u001b[0m in \u001b[0;36mreplay_bundle\u001b[0;34m(self, transaction, depth, min_weight_magnitude)\u001b[0m\n\u001b[1;32m    844\u001b[0m       \u001b[0mtransaction\u001b[0m         \u001b[0;34m=\u001b[0m \u001b[0mtransaction\u001b[0m\u001b[0;34m,\u001b[0m\u001b[0;34m\u001b[0m\u001b[0m\n\u001b[1;32m    845\u001b[0m       \u001b[0mdepth\u001b[0m               \u001b[0;34m=\u001b[0m \u001b[0mdepth\u001b[0m\u001b[0;34m,\u001b[0m\u001b[0;34m\u001b[0m\u001b[0m\n\u001b[0;32m--> 846\u001b[0;31m       \u001b[0mminWeightMagnitude\u001b[0m  \u001b[0;34m=\u001b[0m \u001b[0mmin_weight_magnitude\u001b[0m\u001b[0;34m,\u001b[0m\u001b[0;34m\u001b[0m\u001b[0m\n\u001b[0m\u001b[1;32m    847\u001b[0m     )\n\u001b[1;32m    848\u001b[0m \u001b[0;34m\u001b[0m\u001b[0m\n",
      "\u001b[0;32m~/anaconda3/envs/PyOTA/lib/python3.6/site-packages/iota/commands/__init__.py\u001b[0m in \u001b[0;36m__call__\u001b[0;34m(self, **kwargs)\u001b[0m\n\u001b[1;32m    128\u001b[0m       \u001b[0mself\u001b[0m\u001b[0;34m.\u001b[0m\u001b[0mrequest\u001b[0m \u001b[0;34m=\u001b[0m \u001b[0mreplacement\u001b[0m\u001b[0;34m\u001b[0m\u001b[0m\n\u001b[1;32m    129\u001b[0m \u001b[0;34m\u001b[0m\u001b[0m\n\u001b[0;32m--> 130\u001b[0;31m     \u001b[0mself\u001b[0m\u001b[0;34m.\u001b[0m\u001b[0mresponse\u001b[0m \u001b[0;34m=\u001b[0m \u001b[0mself\u001b[0m\u001b[0;34m.\u001b[0m\u001b[0m_execute\u001b[0m\u001b[0;34m(\u001b[0m\u001b[0mself\u001b[0m\u001b[0;34m.\u001b[0m\u001b[0mrequest\u001b[0m\u001b[0;34m)\u001b[0m\u001b[0;34m\u001b[0m\u001b[0m\n\u001b[0m\u001b[1;32m    131\u001b[0m \u001b[0;34m\u001b[0m\u001b[0m\n\u001b[1;32m    132\u001b[0m     \u001b[0mreplacement\u001b[0m \u001b[0;34m=\u001b[0m \u001b[0mself\u001b[0m\u001b[0;34m.\u001b[0m\u001b[0m_prepare_response\u001b[0m\u001b[0;34m(\u001b[0m\u001b[0mself\u001b[0m\u001b[0;34m.\u001b[0m\u001b[0mresponse\u001b[0m\u001b[0;34m)\u001b[0m\u001b[0;34m\u001b[0m\u001b[0m\n",
      "\u001b[0;32m~/anaconda3/envs/PyOTA/lib/python3.6/site-packages/iota/commands/extended/replay_bundle.py\u001b[0m in \u001b[0;36m_execute\u001b[0;34m(self, request)\u001b[0m\n\u001b[1;32m     48\u001b[0m \u001b[0;34m\u001b[0m\u001b[0m\n\u001b[1;32m     49\u001b[0m \u001b[0;34m\u001b[0m\u001b[0m\n\u001b[0;32m---> 50\u001b[0;31m       \u001b[0mtrytes\u001b[0m \u001b[0;34m=\u001b[0m \u001b[0mbundle\u001b[0m\u001b[0;34m.\u001b[0m\u001b[0mas_tryte_strings\u001b[0m\u001b[0;34m(\u001b[0m\u001b[0;34m)\u001b[0m\u001b[0;34m,\u001b[0m\u001b[0;34m\u001b[0m\u001b[0m\n\u001b[0m\u001b[1;32m     51\u001b[0m     )\n\u001b[1;32m     52\u001b[0m \u001b[0;34m\u001b[0m\u001b[0m\n",
      "\u001b[0;32m~/anaconda3/envs/PyOTA/lib/python3.6/site-packages/iota/commands/__init__.py\u001b[0m in \u001b[0;36m__call__\u001b[0;34m(self, **kwargs)\u001b[0m\n\u001b[1;32m    128\u001b[0m       \u001b[0mself\u001b[0m\u001b[0;34m.\u001b[0m\u001b[0mrequest\u001b[0m \u001b[0;34m=\u001b[0m \u001b[0mreplacement\u001b[0m\u001b[0;34m\u001b[0m\u001b[0m\n\u001b[1;32m    129\u001b[0m \u001b[0;34m\u001b[0m\u001b[0m\n\u001b[0;32m--> 130\u001b[0;31m     \u001b[0mself\u001b[0m\u001b[0;34m.\u001b[0m\u001b[0mresponse\u001b[0m \u001b[0;34m=\u001b[0m \u001b[0mself\u001b[0m\u001b[0;34m.\u001b[0m\u001b[0m_execute\u001b[0m\u001b[0;34m(\u001b[0m\u001b[0mself\u001b[0m\u001b[0;34m.\u001b[0m\u001b[0mrequest\u001b[0m\u001b[0;34m)\u001b[0m\u001b[0;34m\u001b[0m\u001b[0m\n\u001b[0m\u001b[1;32m    131\u001b[0m \u001b[0;34m\u001b[0m\u001b[0m\n\u001b[1;32m    132\u001b[0m     \u001b[0mreplacement\u001b[0m \u001b[0;34m=\u001b[0m \u001b[0mself\u001b[0m\u001b[0;34m.\u001b[0m\u001b[0m_prepare_response\u001b[0m\u001b[0;34m(\u001b[0m\u001b[0mself\u001b[0m\u001b[0;34m.\u001b[0m\u001b[0mresponse\u001b[0m\u001b[0;34m)\u001b[0m\u001b[0;34m\u001b[0m\u001b[0m\n",
      "\u001b[0;32m~/anaconda3/envs/PyOTA/lib/python3.6/site-packages/iota/commands/extended/send_trytes.py\u001b[0m in \u001b[0;36m_execute\u001b[0;34m(self, request)\u001b[0m\n\u001b[1;32m     43\u001b[0m     gta_response = GetTransactionsToApproveCommand(self.adapter)(\n\u001b[1;32m     44\u001b[0m       \u001b[0mdepth\u001b[0m\u001b[0;34m=\u001b[0m\u001b[0mdepth\u001b[0m\u001b[0;34m,\u001b[0m\u001b[0;34m\u001b[0m\u001b[0m\n\u001b[0;32m---> 45\u001b[0;31m       \u001b[0mreference\u001b[0m\u001b[0;34m=\u001b[0m\u001b[0mreference\u001b[0m\u001b[0;34m,\u001b[0m\u001b[0;34m\u001b[0m\u001b[0m\n\u001b[0m\u001b[1;32m     46\u001b[0m     )\n\u001b[1;32m     47\u001b[0m \u001b[0;34m\u001b[0m\u001b[0m\n",
      "\u001b[0;32m~/anaconda3/envs/PyOTA/lib/python3.6/site-packages/iota/commands/__init__.py\u001b[0m in \u001b[0;36m__call__\u001b[0;34m(self, **kwargs)\u001b[0m\n\u001b[1;32m    128\u001b[0m       \u001b[0mself\u001b[0m\u001b[0;34m.\u001b[0m\u001b[0mrequest\u001b[0m \u001b[0;34m=\u001b[0m \u001b[0mreplacement\u001b[0m\u001b[0;34m\u001b[0m\u001b[0m\n\u001b[1;32m    129\u001b[0m \u001b[0;34m\u001b[0m\u001b[0m\n\u001b[0;32m--> 130\u001b[0;31m     \u001b[0mself\u001b[0m\u001b[0;34m.\u001b[0m\u001b[0mresponse\u001b[0m \u001b[0;34m=\u001b[0m \u001b[0mself\u001b[0m\u001b[0;34m.\u001b[0m\u001b[0m_execute\u001b[0m\u001b[0;34m(\u001b[0m\u001b[0mself\u001b[0m\u001b[0;34m.\u001b[0m\u001b[0mrequest\u001b[0m\u001b[0;34m)\u001b[0m\u001b[0;34m\u001b[0m\u001b[0m\n\u001b[0m\u001b[1;32m    131\u001b[0m \u001b[0;34m\u001b[0m\u001b[0m\n\u001b[1;32m    132\u001b[0m     \u001b[0mreplacement\u001b[0m \u001b[0;34m=\u001b[0m \u001b[0mself\u001b[0m\u001b[0;34m.\u001b[0m\u001b[0m_prepare_response\u001b[0m\u001b[0;34m(\u001b[0m\u001b[0mself\u001b[0m\u001b[0;34m.\u001b[0m\u001b[0mresponse\u001b[0m\u001b[0;34m)\u001b[0m\u001b[0;34m\u001b[0m\u001b[0m\n",
      "\u001b[0;32m~/anaconda3/envs/PyOTA/lib/python3.6/site-packages/iota/commands/__init__.py\u001b[0m in \u001b[0;36m_execute\u001b[0;34m(self, request)\u001b[0m\n\u001b[1;32m    156\u001b[0m     \"\"\"\n\u001b[1;32m    157\u001b[0m     \u001b[0mrequest\u001b[0m\u001b[0;34m[\u001b[0m\u001b[0;34m'command'\u001b[0m\u001b[0;34m]\u001b[0m \u001b[0;34m=\u001b[0m \u001b[0mself\u001b[0m\u001b[0;34m.\u001b[0m\u001b[0mcommand\u001b[0m\u001b[0;34m\u001b[0m\u001b[0m\n\u001b[0;32m--> 158\u001b[0;31m     \u001b[0;32mreturn\u001b[0m \u001b[0mself\u001b[0m\u001b[0;34m.\u001b[0m\u001b[0madapter\u001b[0m\u001b[0;34m.\u001b[0m\u001b[0msend_request\u001b[0m\u001b[0;34m(\u001b[0m\u001b[0mrequest\u001b[0m\u001b[0;34m)\u001b[0m\u001b[0;34m\u001b[0m\u001b[0m\n\u001b[0m\u001b[1;32m    159\u001b[0m \u001b[0;34m\u001b[0m\u001b[0m\n\u001b[1;32m    160\u001b[0m   \u001b[0;34m@\u001b[0m\u001b[0mabstract_method\u001b[0m\u001b[0;34m\u001b[0m\u001b[0m\n",
      "\u001b[0;32m~/anaconda3/envs/PyOTA/lib/python3.6/site-packages/iota/adapter/__init__.py\u001b[0m in \u001b[0;36msend_request\u001b[0;34m(self, payload, **kwargs)\u001b[0m\n\u001b[1;32m    302\u001b[0m     )\n\u001b[1;32m    303\u001b[0m \u001b[0;34m\u001b[0m\u001b[0m\n\u001b[0;32m--> 304\u001b[0;31m     \u001b[0;32mreturn\u001b[0m \u001b[0mself\u001b[0m\u001b[0;34m.\u001b[0m\u001b[0m_interpret_response\u001b[0m\u001b[0;34m(\u001b[0m\u001b[0mresponse\u001b[0m\u001b[0;34m,\u001b[0m \u001b[0mpayload\u001b[0m\u001b[0;34m,\u001b[0m \u001b[0;34m{\u001b[0m\u001b[0mcodes\u001b[0m\u001b[0;34m[\u001b[0m\u001b[0;34m'ok'\u001b[0m\u001b[0;34m]\u001b[0m\u001b[0;34m}\u001b[0m\u001b[0;34m)\u001b[0m\u001b[0;34m\u001b[0m\u001b[0m\n\u001b[0m\u001b[1;32m    305\u001b[0m \u001b[0;34m\u001b[0m\u001b[0m\n\u001b[1;32m    306\u001b[0m   \u001b[0;32mdef\u001b[0m \u001b[0m_send_http_request\u001b[0m\u001b[0;34m(\u001b[0m\u001b[0mself\u001b[0m\u001b[0;34m,\u001b[0m \u001b[0murl\u001b[0m\u001b[0;34m,\u001b[0m \u001b[0mpayload\u001b[0m\u001b[0;34m,\u001b[0m \u001b[0mmethod\u001b[0m\u001b[0;34m=\u001b[0m\u001b[0;34m'post'\u001b[0m\u001b[0;34m,\u001b[0m \u001b[0;34m**\u001b[0m\u001b[0mkwargs\u001b[0m\u001b[0;34m)\u001b[0m\u001b[0;34m:\u001b[0m\u001b[0;34m\u001b[0m\u001b[0m\n",
      "\u001b[0;32m~/anaconda3/envs/PyOTA/lib/python3.6/site-packages/iota/adapter/__init__.py\u001b[0m in \u001b[0;36m_interpret_response\u001b[0;34m(self, response, payload, expected_status)\u001b[0m\n\u001b[1;32m    443\u001b[0m       context = {\n\u001b[1;32m    444\u001b[0m         \u001b[0;34m'request'\u001b[0m\u001b[0;34m:\u001b[0m  \u001b[0mpayload\u001b[0m\u001b[0;34m,\u001b[0m\u001b[0;34m\u001b[0m\u001b[0m\n\u001b[0;32m--> 445\u001b[0;31m         \u001b[0;34m'response'\u001b[0m\u001b[0;34m:\u001b[0m \u001b[0mdecoded\u001b[0m\u001b[0;34m,\u001b[0m\u001b[0;34m\u001b[0m\u001b[0m\n\u001b[0m\u001b[1;32m    446\u001b[0m       },\n\u001b[1;32m    447\u001b[0m     )\n",
      "\u001b[0;31mBadApiResponse\u001b[0m: 400 response from node: The subtangle is not solid"
     ]
    }
   ],
   "source": [
    "api.replay_bundle(transactionHash[0], depth=depth) # should work on working and synced node"
   ]
  },
  {
   "cell_type": "markdown",
   "metadata": {},
   "source": [
    "After succesfull inclusion, we should be able to see transfered tokens in receiver wallet:"
   ]
  },
  {
   "cell_type": "code",
   "execution_count": 72,
   "metadata": {},
   "outputs": [
    {
     "data": {
      "text/plain": [
       "2000"
      ]
     },
     "execution_count": 72,
     "metadata": {},
     "output_type": "execute_result"
    }
   ],
   "source": [
    "api = iota.Iota(uri, seed=sender_seed)\n",
    "sender_account = api.get_account_data(start=0)\n",
    "sender_account[\"balance\"]"
   ]
  },
  {
   "cell_type": "code",
   "execution_count": 73,
   "metadata": {},
   "outputs": [
    {
     "data": {
      "text/plain": [
       "0"
      ]
     },
     "execution_count": 73,
     "metadata": {},
     "output_type": "execute_result"
    }
   ],
   "source": [
    "api = iota.Iota(uri, seed=receiver_seed)\n",
    "receiver_account = api.get_account_data(start=0)\n",
    "receiver_account[\"balance\"]"
   ]
  },
  {
   "cell_type": "markdown",
   "metadata": {},
   "source": [
    "## Versions of modules used in tutorial:"
   ]
  },
  {
   "cell_type": "code",
   "execution_count": 12,
   "metadata": {},
   "outputs": [],
   "source": [
    "assert iota.__version__ == '2.0.4'\n",
    "assert requests.__version__ == '2.18.4'"
   ]
  },
  {
   "cell_type": "markdown",
   "metadata": {},
   "source": [
    "## Future enchancements:"
   ]
  },
  {
   "cell_type": "markdown",
   "metadata": {},
   "source": [
    "### Check if address was used to spent: https://github.com/iotaledger/iota.lib.py/pull/158\n",
    "Not pushed to relese yet."
   ]
  },
  {
   "cell_type": "code",
   "execution_count": 79,
   "metadata": {},
   "outputs": [
    {
     "ename": "InvalidCommand",
     "evalue": "Iota does not support 'were_addresses_spent_from' command.",
     "output_type": "error",
     "traceback": [
      "\u001b[0;31m---------------------------------------------------------------------------\u001b[0m",
      "\u001b[0;31mKeyError\u001b[0m                                  Traceback (most recent call last)",
      "\u001b[0;32m~/anaconda3/envs/PyOTA/lib/python3.6/site-packages/iota/api.py\u001b[0m in \u001b[0;36m__getattr__\u001b[0;34m(self, command)\u001b[0m\n\u001b[1;32m    105\u001b[0m     \u001b[0;32mtry\u001b[0m\u001b[0;34m:\u001b[0m\u001b[0;34m\u001b[0m\u001b[0m\n\u001b[0;32m--> 106\u001b[0;31m       \u001b[0mcommand_class\u001b[0m \u001b[0;34m=\u001b[0m \u001b[0mself\u001b[0m\u001b[0;34m.\u001b[0m\u001b[0mcommands\u001b[0m\u001b[0;34m[\u001b[0m\u001b[0mcommand\u001b[0m\u001b[0;34m]\u001b[0m\u001b[0;34m\u001b[0m\u001b[0m\n\u001b[0m\u001b[1;32m    107\u001b[0m     \u001b[0;32mexcept\u001b[0m \u001b[0mKeyError\u001b[0m\u001b[0;34m:\u001b[0m\u001b[0;34m\u001b[0m\u001b[0m\n",
      "\u001b[0;31mKeyError\u001b[0m: 'were_addresses_spent_from'",
      "\nDuring handling of the above exception, another exception occurred:\n",
      "\u001b[0;31mInvalidCommand\u001b[0m                            Traceback (most recent call last)",
      "\u001b[0;32m<ipython-input-79-931a268bb878>\u001b[0m in \u001b[0;36m<module>\u001b[0;34m()\u001b[0m\n\u001b[1;32m      3\u001b[0m \u001b[0;34m\u001b[0m\u001b[0m\n\u001b[1;32m      4\u001b[0m \u001b[0mapi\u001b[0m \u001b[0;34m=\u001b[0m \u001b[0mIota\u001b[0m\u001b[0;34m(\u001b[0m\u001b[0muri\u001b[0m\u001b[0;34m,\u001b[0m \u001b[0mseed\u001b[0m\u001b[0;34m=\u001b[0m\u001b[0msender_seed\u001b[0m\u001b[0;34m)\u001b[0m\u001b[0;34m\u001b[0m\u001b[0m\n\u001b[0;32m----> 5\u001b[0;31m \u001b[0mr\u001b[0m \u001b[0;34m=\u001b[0m \u001b[0mapi\u001b[0m\u001b[0;34m.\u001b[0m\u001b[0mwere_addresses_spent_from\u001b[0m\u001b[0;34m(\u001b[0m\u001b[0msender_address\u001b[0m\u001b[0;34m)\u001b[0m\u001b[0;34m\u001b[0m\u001b[0m\n\u001b[0m\u001b[1;32m      6\u001b[0m \u001b[0mprint\u001b[0m\u001b[0;34m(\u001b[0m\u001b[0mr\u001b[0m\u001b[0;34m)\u001b[0m\u001b[0;34m\u001b[0m\u001b[0m\n",
      "\u001b[0;32m~/anaconda3/envs/PyOTA/lib/python3.6/site-packages/iota/api.py\u001b[0m in \u001b[0;36m__getattr__\u001b[0;34m(self, command)\u001b[0m\n\u001b[1;32m    109\u001b[0m         '{cls} does not support {command!r} command.'.format(\n\u001b[1;32m    110\u001b[0m           \u001b[0mcls\u001b[0m     \u001b[0;34m=\u001b[0m \u001b[0mtype\u001b[0m\u001b[0;34m(\u001b[0m\u001b[0mself\u001b[0m\u001b[0;34m)\u001b[0m\u001b[0;34m.\u001b[0m\u001b[0m__name__\u001b[0m\u001b[0;34m,\u001b[0m\u001b[0;34m\u001b[0m\u001b[0m\n\u001b[0;32m--> 111\u001b[0;31m           \u001b[0mcommand\u001b[0m \u001b[0;34m=\u001b[0m \u001b[0mcommand\u001b[0m\u001b[0;34m,\u001b[0m\u001b[0;34m\u001b[0m\u001b[0m\n\u001b[0m\u001b[1;32m    112\u001b[0m         ),\n\u001b[1;32m    113\u001b[0m       )\n",
      "\u001b[0;31mInvalidCommand\u001b[0m: Iota does not support 'were_addresses_spent_from' command."
     ]
    }
   ],
   "source": [
    "api = Iota(uri, seed=sender_seed)\n",
    "r = api.were_addresses_spent_from(sender_address)\n",
    "print(r)"
   ]
  },
  {
   "cell_type": "code",
   "execution_count": null,
   "metadata": {},
   "outputs": [],
   "source": []
  }
 ],
 "metadata": {
  "kernelspec": {
   "display_name": "Python 3",
   "language": "python",
   "name": "python3"
  },
  "language_info": {
   "codemirror_mode": {
    "name": "ipython",
    "version": 3
   },
   "file_extension": ".py",
   "mimetype": "text/x-python",
   "name": "python",
   "nbconvert_exporter": "python",
   "pygments_lexer": "ipython3",
   "version": "3.6.4"
  }
 },
 "nbformat": 4,
 "nbformat_minor": 2
}
