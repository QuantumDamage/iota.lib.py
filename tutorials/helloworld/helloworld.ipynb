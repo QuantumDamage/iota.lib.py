{
 "cells": [
  {
   "cell_type": "markdown",
   "metadata": {},
   "source": [
    "# PyOTA \"Hello world\" tutorial.\n",
    "\n",
    "The goal of this tutorial is to create new empty wallet based on new random seed and to transfer IOTA tokens to it from wallet generated via faucet."
   ]
  },
  {
   "cell_type": "markdown",
   "metadata": {},
   "source": [
    "## Imports\n",
    "Currently we have following imports:\n",
    " * iota - module name for [PyOTA](https://pyota.readthedocs.io/en/latest/)\n",
    " * secrets - \"The [secrets](https://docs.python.org/3/library/secrets.html#module-secrets) module is used for generating cryptographically strong random numbers suitable for managing data such as passwords, account authentication, security tokens, and related secrets.\"\n",
    " * requests - \"[Requests](http://docs.python-requests.org/en/master/) is an elegant and simple HTTP library for Python, built for human beings.\""
   ]
  },
  {
   "cell_type": "code",
   "execution_count": 6,
   "metadata": {},
   "outputs": [],
   "source": [
    "import iota\n",
    "import secrets\n",
    "import requests"
   ]
  },
  {
   "cell_type": "markdown",
   "metadata": {},
   "source": [
    "## Generating and printing receiver seed\n",
    "We can easily and securely generate seed which will be used as seed for receiver side."
   ]
  },
  {
   "cell_type": "code",
   "execution_count": 2,
   "metadata": {},
   "outputs": [
    {
     "name": "stdout",
     "output_type": "stream",
     "text": [
      "QQJXTDOGMDKJFTGRLZIPVPPDONPNTPDYWGGWGUWGTWCVGVSQIHHXMUEJGGAQVMDRITHCKWDFNCIRBSGLY\n"
     ]
    }
   ],
   "source": [
    "chars = 'ABCDEFGHIJKLMNOPQRSTUVWXYZ9'\n",
    "receiver_seed = ''\n",
    "for i in range(81): receiver_seed += secrets.choice(chars)\n",
    "    \n",
    "print(receiver_seed)"
   ]
  },
  {
   "cell_type": "markdown",
   "metadata": {},
   "source": [
    "## Connecting to testnet\n",
    "Since we would like to be as close to actual Main IOTA network we will use IOTA testnet. IOTA testnet is supposed to be almost identical in operating as mainnet but has faster confirmation times and is reseted regurally, so tokens used there have no value. Here is list of example testnet nodes:\n",
    "\n",
    "* http://p103.iotaledger.net:14700\n",
    "* https://testnet140.tangle.works:443\n",
    "* http://p101.iotaledger.net:14700\n",
    "\n",
    "Please note that they could be down or unresponsive. "
   ]
  },
  {
   "cell_type": "code",
   "execution_count": 4,
   "metadata": {},
   "outputs": [
    {
     "data": {
      "text/plain": [
       "{'appName': 'IRI Testnet',\n",
       " 'appVersion': '1.4.2.1',\n",
       " 'duration': 1,\n",
       " 'jreAvailableProcessors': 8,\n",
       " 'jreFreeMemory': 178097416,\n",
       " 'jreMaxMemory': 15271460864,\n",
       " 'jreTotalMemory': 1064828928,\n",
       " 'jreVersion': '1.8.0_161',\n",
       " 'latestMilestone': TransactionHash(b'999999999999999999999999999999999999999999999999999999999999999999999999999999999'),\n",
       " 'latestMilestoneIndex': 1000,\n",
       " 'latestSolidSubtangleMilestone': TransactionHash(b'N9KMMVZS9YZJMDRSNGVEGIZXDGQCDDXWIBNVVALIJSYAQREEDGMIWUFMWDMFOFRMZEVAXASHATMPID999'),\n",
       " 'latestSolidSubtangleMilestoneIndex': 317625,\n",
       " 'neighbors': 3,\n",
       " 'packetsQueueSize': 0,\n",
       " 'time': 1518609753009,\n",
       " 'tips': 5,\n",
       " 'transactionsToRequest': 1}"
      ]
     },
     "execution_count": 4,
     "metadata": {},
     "output_type": "execute_result"
    }
   ],
   "source": [
    "api = iota.Iota('https://testnet140.tangle.works:443')\n",
    "api.get_node_info()"
   ]
  },
  {
   "cell_type": "markdown",
   "metadata": {},
   "source": [
    "## How to get testnet tokens?\n",
    "If we are generating new wallets from new seeds then thoose wallets will be empty (well, [probably](https://matthewwinstonjohnson.gitbooks.io/iota-guide-and-faq/how-secure-is-my-seed.html)). Since we would like to simulate transfer of \"value\" between two parties, we would need to have some tokens in at least one wallet in our setup. Thanks to IOTA devs, there is service called faucet which is genearting seeds and wallet addreses with some testnet tokens in it (2K at the moment). They also provide JSON API so we can use it right away."
   ]
  },
  {
   "cell_type": "code",
   "execution_count": 17,
   "metadata": {},
   "outputs": [
    {
     "name": "stdout",
     "output_type": "stream",
     "text": [
      "Faucet response: 200\n"
     ]
    }
   ],
   "source": [
    "r = requests.get('https://seeedy.tangle.works/')\n",
    "print(\"Faucet response: \" + str(r.status_code))\n",
    "sender_wallet = r.json()"
   ]
  },
  {
   "cell_type": "code",
   "execution_count": 18,
   "metadata": {},
   "outputs": [
    {
     "name": "stdout",
     "output_type": "stream",
     "text": [
      "Sender seed: MRM9JELQDQIJINNGXJTZANGXHEBNIEAVBP9VSYNKDEOIVVBBQXWUZSEEMSTINPIYMOLHPCCFQUNTQJKSF\n",
      "Sender address: GMS9RXYFUXQXXVSXLVPCRQWXZVYJKKIUUNKBJDFDIRNHWPLZYSNYKJCCOUNHQFZNFUWWLROQY9ULEYBIB\n",
      "Sender amount: 2000\n"
     ]
    }
   ],
   "source": [
    "print(\"Sender seed: \" + sender_wallet[\"seed\"])\n",
    "print(\"Sender address: \" + sender_wallet[\"address\"])\n",
    "print(\"Sender amount: \" + str(sender_wallet[\"amount\"]))"
   ]
  },
  {
   "cell_type": "markdown",
   "metadata": {},
   "source": [
    "## Prepare receiver\n",
    "We already have seeds for receiver and sender, but we would also have addresses for them. Sender address is available form above faucet, so now we need to generate receiver address.\n"
   ]
  },
  {
   "cell_type": "code",
   "execution_count": null,
   "metadata": {},
   "outputs": [],
   "source": []
  },
  {
   "cell_type": "markdown",
   "metadata": {},
   "source": [
    "## Versions of modules used in tutorial:"
   ]
  },
  {
   "cell_type": "code",
   "execution_count": 8,
   "metadata": {},
   "outputs": [],
   "source": [
    "assert iota.__version__ == '2.0.4'\n",
    "assert requests.__version__ == '2.18.4'"
   ]
  },
  {
   "cell_type": "code",
   "execution_count": null,
   "metadata": {},
   "outputs": [],
   "source": []
  }
 ],
 "metadata": {
  "kernelspec": {
   "display_name": "Python 3",
   "language": "python",
   "name": "python3"
  },
  "language_info": {
   "codemirror_mode": {
    "name": "ipython",
    "version": 3
   },
   "file_extension": ".py",
   "mimetype": "text/x-python",
   "name": "python",
   "nbconvert_exporter": "python",
   "pygments_lexer": "ipython3",
   "version": "3.6.4"
  }
 },
 "nbformat": 4,
 "nbformat_minor": 2
}
